{
 "cells": [
  {
   "cell_type": "markdown",
   "metadata": {},
   "source": [
    "#### 一開始仍舊對Quick Sort的流程不太熟悉，在網路上找到一些介紹後，加強了自己對Quick Sort的理解。\n",
    "#### 以下是兩種做法："
   ]
  },
  {
   "cell_type": "markdown",
   "metadata": {},
   "source": [
    "### 方法一"
   ]
  },
  {
   "cell_type": "markdown",
   "metadata": {},
   "source": [
    "##### 一開始不知為何code寫出來總是會有地方出錯。花了很長時間自己依舊不知道如何解決，向朋友求救以後，才知道可以用重複呼叫quicksort以達到繼續分的目的（遞迴的概念還是不清楚）。"
   ]
  },
  {
   "cell_type": "code",
   "execution_count": 55,
   "metadata": {},
   "outputs": [],
   "source": [
    "def QuickSort(list):\n",
    "\n",
    "    if len(list)<=1:\n",
    "        return list             #要注意長度不足2的情況\n",
    "    else:\n",
    "        # 建立3個list，分別存放smaller than pivot(左)、 pivot(中)、 larger than pivot(右)\n",
    "        smaller=[]\n",
    "        pivot_list = []\n",
    "        larger=[]\n",
    "        pivot=list[0]        #使用第一個值為pivot\n",
    "        for i in list:\n",
    "            if i<pivot:\n",
    "                smaller.append(i)\n",
    "            elif i>pivot:\n",
    "                larger.append(i)\n",
    "            else:\n",
    "                pivot_list.append(i)\n",
    "                \n",
    "        return QuickSort(smaller) + pivot_list +QuickSort(larger)                 #串連左中右，重複呼叫quicksort繼續分"
   ]
  },
  {
   "cell_type": "code",
   "execution_count": 56,
   "metadata": {},
   "outputs": [
    {
     "data": {
      "text/plain": [
       "[1, 2, 3, 4, 5, 6, 7, 9, 19, 100]"
      ]
     },
     "execution_count": 56,
     "metadata": {},
     "output_type": "execute_result"
    }
   ],
   "source": [
    "list_example = [4,1,3,6,7,9,19,2,5,100]\n",
    "QuickSort(list_example)"
   ]
  },
  {
   "cell_type": "markdown",
   "metadata": {},
   "source": [
    "### 方法二："
   ]
  },
  {
   "cell_type": "markdown",
   "metadata": {},
   "source": [
    "#### 我參照了http://alrightchiu.github.io/SecondRound/comparison-sort-quick-sortkuai-su-pai-xu-fa.html 這篇文章作者的介紹，先在紙上寫出了我的理解，然後再根據理解寫Quick Sort"
   ]
  },
  {
   "cell_type": "markdown",
   "metadata": {},
   "source": [
    "##### 整體思路是先在鏈表裡找一個pivot(我用的是鏈表內最後一個值)，pivot=array[end]。front是鏈表最前端值的index，end是鏈表最後端值的index。把鏈表分為兩部分，一部分是\"smaller than pivot\"，另一部分是\"larger than pivot\"。i 紀錄\"smaller than pivot\"鏈表的最後一個位置，j 是除pivot外，其餘的值與pivot依次比較的index，它的順序是從front到end-1。"
   ]
  },
  {
   "cell_type": "code",
   "execution_count": 57,
   "metadata": {},
   "outputs": [],
   "source": [
    "class Solution:\n",
    "    \n",
    "        \n",
    "    def partition(self, arr, front, end):                  #調整鏈表，把鏈表分成「小於pivot」和「大於pivot」兩部分。\n",
    "        pivot = arr[end]  #pivot統一用鏈表最後一個value\n",
    "        i = front - 1          #紀錄「小於pivot」鏈表中的最後一個位置\n",
    "                                  #「j」: pivot與其餘的數逐一比較的index\n",
    "            \n",
    "        for j in range(front,end):       #若當前j對應的值比pivot小，則j與i互換位置，同時i+1紀錄「小於pivot」的鏈表的最後一個位置。j+1，進行下一個值的比較。\n",
    "            if arr[j] < pivot:\n",
    "                i +=1\n",
    "                arr[i],arr[j] = arr[j],arr[i]                                                                                                                                                                                                                                                                       \n",
    "            j +=1\n",
    "        i += 1 \n",
    "        arr[i],arr[end] = arr[end],arr[i]       #若j剛好處於pivot的位置，則將pivot插入「小於pivot」和「大於pivot」兩部分之間。\n",
    "        return i                                                  #紀錄pivot最後的位置，用於重複進行左右兩邊的排序\n",
    "\n",
    "    def QuickSort(self,arr,front, end):\n",
    "        if front < end:\n",
    "            pivot = self.partition(arr, front, end)   #做partition把鏈表分兩堆\n",
    "            self.QuickSort(arr,front,pivot-1)        #重複呼叫quicksort，再分「小於pivot」的鏈表\n",
    "            self.QuickSort(arr,pivot+1,end)         # 重複呼叫quicksort，再分「大於pivot」的鏈表\n",
    "            \n",
    "    def ShowArray(self,arr):\n",
    "        n = len(arr)\n",
    "        self.QuickSort(arr,0,n-1)\n",
    "        \n",
    "        return arr\n",
    "            "
   ]
  },
  {
   "cell_type": "code",
   "execution_count": 58,
   "metadata": {},
   "outputs": [
    {
     "data": {
      "text/plain": [
       "[1, 2, 3, 4, 5, 6, 7, 9, 19, 100]"
      ]
     },
     "execution_count": 58,
     "metadata": {},
     "output_type": "execute_result"
    }
   ],
   "source": [
    "arr = [4,1,3,6,7,9,19,2,5,100] \n",
    "p = Solution()\n",
    "p.ShowArray(arr)"
   ]
  }
 ],
 "metadata": {
  "kernelspec": {
   "display_name": "Python 3",
   "language": "python",
   "name": "python3"
  },
  "language_info": {
   "codemirror_mode": {
    "name": "ipython",
    "version": 3
   },
   "file_extension": ".py",
   "mimetype": "text/x-python",
   "name": "python",
   "nbconvert_exporter": "python",
   "pygments_lexer": "ipython3",
   "version": "3.7.0"
  }
 },
 "nbformat": 4,
 "nbformat_minor": 2
}
