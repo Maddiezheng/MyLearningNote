{
 "cells": [
  {
   "cell_type": "markdown",
   "metadata": {},
   "source": [
    "方法：\n",
    "1. 先構建一個max heap。滿足的狀況是父節點永遠比子節點大。\n",
    "2. 然後重複地把最大值取出來和最後一個值交換位置，並且交換後的最大值不參與再構建max heap。\n",
    "\n",
    "max heapify的功能是維護最大堆的性質。如果父節點與子節點進行交換，那麼要對交換後的subtree再進行檢查，看是否有滿足最大堆的性質。\n",
    "                \n",
    "                \n",
    "        "
   ]
  },
  {
   "cell_type": "markdown",
   "metadata": {},
   "source": [
    "參考資料：\n",
    "\n",
    "http://alrightchiu.github.io/SecondRound/comparison-sort-heap-sortdui-ji-pai-xu-fa.html\n",
    "\n",
    "https://www.geeksforgeeks.org/python-program-for-heap-sort/\n"
   ]
  },
  {
   "cell_type": "markdown",
   "metadata": {},
   "source": [
    "寫的cell太多，就不一一描述，針對後半段的cell進行了一些闡述"
   ]
  },
  {
   "cell_type": "code",
   "execution_count": 28,
   "metadata": {},
   "outputs": [],
   "source": [
    "class Solution():\n",
    "    \n",
    "    def MaxAdjustment(self,arr,n):            #在這裏構建一個Max Heap\n",
    "        N = len(arr)\n",
    "        \n",
    "        for n in len(arr):\n",
    "            left_child=2*n                     #左邊child的index\n",
    "            right_child=2*n+1                #右邊child的index\n",
    "            parent = n\n",
    "            if arr[left_child] > arr[right_child]:           #如果右邊沒有child或左邊的child比右邊的大，則maxnode是left_child\n",
    "                max = left_child         \n",
    "            else:\n",
    "                max = right_child                                                               #反之，右邊較大則maxnode為right_child\n",
    "                \n",
    "            if arr[max] > arr[parent]:\n",
    "                arr[n],arr[max] = arr[max],arr[parent]\n",
    "                \n",
    "                MaxAdjustment(arr,max)  \n",
    "                \n",
    "                "
   ]
  },
  {
   "cell_type": "markdown",
   "metadata": {},
   "source": [
    "此處的error：缺少一個必須的位置參數“n”"
   ]
  },
  {
   "cell_type": "code",
   "execution_count": 29,
   "metadata": {},
   "outputs": [
    {
     "ename": "TypeError",
     "evalue": "MaxAdjustment() missing 1 required positional argument: 'n'",
     "output_type": "error",
     "traceback": [
      "\u001b[0;31m---------------------------------------------------------------------------\u001b[0m",
      "\u001b[0;31mTypeError\u001b[0m                                 Traceback (most recent call last)",
      "\u001b[0;32m<ipython-input-29-fcf43e672da1>\u001b[0m in \u001b[0;36m<module>\u001b[0;34m()\u001b[0m\n\u001b[1;32m      1\u001b[0m \u001b[0marr\u001b[0m \u001b[0;34m=\u001b[0m \u001b[0;34m[\u001b[0m\u001b[0;36m7\u001b[0m\u001b[0;34m,\u001b[0m\u001b[0;36m10\u001b[0m\u001b[0;34m,\u001b[0m\u001b[0;36m12\u001b[0m\u001b[0;34m,\u001b[0m\u001b[0;36m19\u001b[0m\u001b[0;34m,\u001b[0m\u001b[0;36m30\u001b[0m\u001b[0;34m,\u001b[0m\u001b[0;36m26\u001b[0m\u001b[0;34m,\u001b[0m\u001b[0;36m20\u001b[0m\u001b[0;34m,\u001b[0m\u001b[0;36m25\u001b[0m\u001b[0;34m,\u001b[0m\u001b[0;36m18\u001b[0m\u001b[0;34m]\u001b[0m\u001b[0;34m\u001b[0m\u001b[0m\n\u001b[1;32m      2\u001b[0m \u001b[0mp\u001b[0m \u001b[0;34m=\u001b[0m \u001b[0mSolution\u001b[0m\u001b[0;34m(\u001b[0m\u001b[0;34m)\u001b[0m\u001b[0;34m\u001b[0m\u001b[0m\n\u001b[0;32m----> 3\u001b[0;31m \u001b[0mp\u001b[0m\u001b[0;34m.\u001b[0m\u001b[0mMaxAdjustment\u001b[0m\u001b[0;34m(\u001b[0m\u001b[0marr\u001b[0m\u001b[0;34m)\u001b[0m\u001b[0;34m\u001b[0m\u001b[0m\n\u001b[0m",
      "\u001b[0;31mTypeError\u001b[0m: MaxAdjustment() missing 1 required positional argument: 'n'"
     ]
    }
   ],
   "source": [
    "arr = [7,10,12,19,30,26,20,25,18]\n",
    "p = Solution()\n",
    "p.MaxAdjustment(arr)"
   ]
  },
  {
   "cell_type": "markdown",
   "metadata": {},
   "source": [
    "第二遍："
   ]
  },
  {
   "cell_type": "code",
   "execution_count": 30,
   "metadata": {},
   "outputs": [
    {
     "ename": "SyntaxError",
     "evalue": "invalid syntax (<ipython-input-30-e8c7a8777d7d>, line 9)",
     "output_type": "error",
     "traceback": [
      "\u001b[0;36m  File \u001b[0;32m\"<ipython-input-30-e8c7a8777d7d>\"\u001b[0;36m, line \u001b[0;32m9\u001b[0m\n\u001b[0;31m    if left_child < N && arr[left_child] > arr[right_child]:           #如果右邊沒有child或左邊的child比右邊的大，則maxnode是left_child\u001b[0m\n\u001b[0m                       ^\u001b[0m\n\u001b[0;31mSyntaxError\u001b[0m\u001b[0;31m:\u001b[0m invalid syntax\n"
     ]
    }
   ],
   "source": [
    "class Solution():\n",
    "    \n",
    "    def MaxAdjustment(self,arr,n):            #在這裏構建一個Max Heap\n",
    "            N = len(arr)\n",
    "        \n",
    "            left_child=2*n                     #左邊child的index\n",
    "            right_child=2*n+1                #右邊child的index\n",
    "            parent = n\n",
    "            if left_child < N && arr[left_child] > arr[right_child]:           #如果右邊沒有child或左邊的child比右邊的大，則maxnode是left_child\n",
    "                max = left_child         \n",
    "            elif right_child == None:\n",
    "                max = left_child\n",
    "            else:\n",
    "                max = right_child                                                               #反之，右邊較大則maxnode為right_child\n",
    "                \n",
    "            if arr[max] > arr[n]:\n",
    "                arr[n],arr[max] = arr[max],arr[n]\n",
    "                \n",
    "                return MaxAdjustment(arr,max)            #此時parent的index變為max，檢查新的subtree是否符合maxheap\n",
    "            \n",
    "        def BuildHeap()：\n",
    "              for i = N/2:\n",
    "                return MaxAdjustment(arr,i,N)"
   ]
  },
  {
   "cell_type": "code",
   "execution_count": 31,
   "metadata": {},
   "outputs": [
    {
     "ename": "TypeError",
     "evalue": "'int' object is not iterable",
     "output_type": "error",
     "traceback": [
      "\u001b[0;31m---------------------------------------------------------------------------\u001b[0m",
      "\u001b[0;31mTypeError\u001b[0m                                 Traceback (most recent call last)",
      "\u001b[0;32m<ipython-input-31-e244d3179d82>\u001b[0m in \u001b[0;36m<module>\u001b[0;34m()\u001b[0m\n\u001b[1;32m      1\u001b[0m \u001b[0marr\u001b[0m \u001b[0;34m=\u001b[0m \u001b[0;34m[\u001b[0m\u001b[0;36m7\u001b[0m\u001b[0;34m,\u001b[0m\u001b[0;36m10\u001b[0m\u001b[0;34m,\u001b[0m\u001b[0;36m12\u001b[0m\u001b[0;34m,\u001b[0m\u001b[0;36m19\u001b[0m\u001b[0;34m,\u001b[0m\u001b[0;36m30\u001b[0m\u001b[0;34m,\u001b[0m\u001b[0;36m26\u001b[0m\u001b[0;34m,\u001b[0m\u001b[0;36m20\u001b[0m\u001b[0;34m,\u001b[0m\u001b[0;36m25\u001b[0m\u001b[0;34m,\u001b[0m\u001b[0;36m18\u001b[0m\u001b[0;34m]\u001b[0m\u001b[0;34m\u001b[0m\u001b[0m\n\u001b[1;32m      2\u001b[0m \u001b[0mp\u001b[0m \u001b[0;34m=\u001b[0m \u001b[0mSolution\u001b[0m\u001b[0;34m(\u001b[0m\u001b[0;34m)\u001b[0m\u001b[0;34m\u001b[0m\u001b[0m\n\u001b[0;32m----> 3\u001b[0;31m \u001b[0mp\u001b[0m\u001b[0;34m.\u001b[0m\u001b[0mMaxAdjustment\u001b[0m\u001b[0;34m(\u001b[0m\u001b[0marr\u001b[0m\u001b[0;34m,\u001b[0m\u001b[0;36m1\u001b[0m\u001b[0;34m)\u001b[0m\u001b[0;34m\u001b[0m\u001b[0m\n\u001b[0m",
      "\u001b[0;32m<ipython-input-28-117e9c37ac24>\u001b[0m in \u001b[0;36mMaxAdjustment\u001b[0;34m(self, arr, n)\u001b[0m\n\u001b[1;32m      4\u001b[0m         \u001b[0mN\u001b[0m \u001b[0;34m=\u001b[0m \u001b[0mlen\u001b[0m\u001b[0;34m(\u001b[0m\u001b[0marr\u001b[0m\u001b[0;34m)\u001b[0m\u001b[0;34m\u001b[0m\u001b[0m\n\u001b[1;32m      5\u001b[0m \u001b[0;34m\u001b[0m\u001b[0m\n\u001b[0;32m----> 6\u001b[0;31m         \u001b[0;32mfor\u001b[0m \u001b[0mn\u001b[0m \u001b[0;32min\u001b[0m \u001b[0mlen\u001b[0m\u001b[0;34m(\u001b[0m\u001b[0marr\u001b[0m\u001b[0;34m)\u001b[0m\u001b[0;34m:\u001b[0m\u001b[0;34m\u001b[0m\u001b[0m\n\u001b[0m\u001b[1;32m      7\u001b[0m             \u001b[0mleft_child\u001b[0m\u001b[0;34m=\u001b[0m\u001b[0;36m2\u001b[0m\u001b[0;34m*\u001b[0m\u001b[0mn\u001b[0m                     \u001b[0;31m#左邊child的index\u001b[0m\u001b[0;34m\u001b[0m\u001b[0m\n\u001b[1;32m      8\u001b[0m             \u001b[0mright_child\u001b[0m\u001b[0;34m=\u001b[0m\u001b[0;36m2\u001b[0m\u001b[0;34m*\u001b[0m\u001b[0mn\u001b[0m\u001b[0;34m+\u001b[0m\u001b[0;36m1\u001b[0m                \u001b[0;31m#右邊child的index\u001b[0m\u001b[0;34m\u001b[0m\u001b[0m\n",
      "\u001b[0;31mTypeError\u001b[0m: 'int' object is not iterable"
     ]
    }
   ],
   "source": [
    "arr = [7,10,12,19,30,26,20,25,18]\n",
    "p = Solution()\n",
    "p.MaxAdjustment(arr,1)"
   ]
  },
  {
   "cell_type": "code",
   "execution_count": 32,
   "metadata": {},
   "outputs": [],
   "source": [
    "class Solution():\n",
    "    \n",
    "    def MaxAdjustment(self,arr,n):            #在這裏構建一個Max Heap\n",
    "            N = len(arr)\n",
    "        \n",
    "            left_child=2*n                     #左邊child的index\n",
    "            right_child=2*n+1                #右邊child的index\n",
    "            parent = n\n",
    "            if arr[left_child] > arr[right_child]:           #如果右邊沒有child或左邊的child比右邊的大，則maxnode是left_child\n",
    "                max_node = left_child         \n",
    "            elif right_child == None:\n",
    "                max_node = left_child\n",
    "            else:\n",
    "                max_node = right_child                                                               #反之，右邊較大則maxnode為right_child\n",
    "                \n",
    "            if arr[max_node] > arr[n]:\n",
    "                arr[n],arr[max_node] = arr[max_node],arr[n]\n",
    "                \n",
    "                return MaxAdjustment(arr,max_node)            #此時parent的index變為max，檢查新的subtree是否符合maxheap\n",
    "            \n",
    "        "
   ]
  },
  {
   "cell_type": "code",
   "execution_count": 33,
   "metadata": {},
   "outputs": [
    {
     "ename": "NameError",
     "evalue": "name 'MaxAdjustment' is not defined",
     "output_type": "error",
     "traceback": [
      "\u001b[0;31m---------------------------------------------------------------------------\u001b[0m",
      "\u001b[0;31mNameError\u001b[0m                                 Traceback (most recent call last)",
      "\u001b[0;32m<ipython-input-33-f38f9fdfb442>\u001b[0m in \u001b[0;36m<module>\u001b[0;34m()\u001b[0m\n\u001b[1;32m      1\u001b[0m \u001b[0marr\u001b[0m \u001b[0;34m=\u001b[0m \u001b[0;34m[\u001b[0m\u001b[0;36m7\u001b[0m\u001b[0;34m,\u001b[0m\u001b[0;36m10\u001b[0m\u001b[0;34m,\u001b[0m\u001b[0;36m12\u001b[0m\u001b[0;34m,\u001b[0m\u001b[0;36m19\u001b[0m\u001b[0;34m,\u001b[0m\u001b[0;36m30\u001b[0m\u001b[0;34m,\u001b[0m\u001b[0;36m26\u001b[0m\u001b[0;34m,\u001b[0m\u001b[0;36m20\u001b[0m\u001b[0;34m,\u001b[0m\u001b[0;36m25\u001b[0m\u001b[0;34m,\u001b[0m\u001b[0;36m18\u001b[0m\u001b[0;34m]\u001b[0m\u001b[0;34m\u001b[0m\u001b[0m\n\u001b[0;32m----> 2\u001b[0;31m \u001b[0mMaxAdjustment\u001b[0m\u001b[0;34m(\u001b[0m\u001b[0marr\u001b[0m\u001b[0;34m,\u001b[0m\u001b[0;36m1\u001b[0m\u001b[0;34m)\u001b[0m\u001b[0;34m\u001b[0m\u001b[0m\n\u001b[0m",
      "\u001b[0;31mNameError\u001b[0m: name 'MaxAdjustment' is not defined"
     ]
    }
   ],
   "source": [
    "arr = [7,10,12,19,30,26,20,25,18]\n",
    "MaxAdjustment(arr,1)"
   ]
  },
  {
   "cell_type": "code",
   "execution_count": 34,
   "metadata": {},
   "outputs": [
    {
     "ename": "SyntaxError",
     "evalue": "invalid syntax (<ipython-input-34-7f9ac4a7dfb8>, line 11)",
     "output_type": "error",
     "traceback": [
      "\u001b[0;36m  File \u001b[0;32m\"<ipython-input-34-7f9ac4a7dfb8>\"\u001b[0;36m, line \u001b[0;32m11\u001b[0m\n\u001b[0;31m    else:\u001b[0m\n\u001b[0m       ^\u001b[0m\n\u001b[0;31mSyntaxError\u001b[0m\u001b[0;31m:\u001b[0m invalid syntax\n"
     ]
    }
   ],
   "source": [
    "class Solution():\n",
    "    \n",
    "    def MaxAdjustment(self,arr,n):            #在這裏構建一個Max Heap\n",
    "            N = len(arr)\n",
    "        \n",
    "            left_child=2*n                     #左邊child的index\n",
    "            right_child=2*n+1                #右邊child的index\n",
    "            parent = n\n",
    "            if left_child < len(arr) and arr[left_child] > arr[parent]:\n",
    "                max_node = left_child\n",
    "                else:\n",
    "                    max_node = parent\n",
    "            if right < len(arr) and arr[right_child] > arr[largest]:\n",
    "                max_node = right_child\n",
    "                \n",
    "            if max_node != parent:\n",
    "                arr[parent],arr[max_node] = arr[max_node],A[parent]\n",
    "                MaxAdjustment(arr,max_node)"
   ]
  },
  {
   "cell_type": "code",
   "execution_count": 35,
   "metadata": {},
   "outputs": [
    {
     "ename": "SyntaxError",
     "evalue": "invalid syntax (<ipython-input-35-bd0046f0bc86>, line 13)",
     "output_type": "error",
     "traceback": [
      "\u001b[0;36m  File \u001b[0;32m\"<ipython-input-35-bd0046f0bc86>\"\u001b[0;36m, line \u001b[0;32m13\u001b[0m\n\u001b[0;31m    if arr[left_child] > arr[right_child] && arr[left_child] > arr[parent]:           #若left_child和parent、right_比較後是最大的，則maxnode是left_child\u001b[0m\n\u001b[0m                                           ^\u001b[0m\n\u001b[0;31mSyntaxError\u001b[0m\u001b[0;31m:\u001b[0m invalid syntax\n"
     ]
    }
   ],
   "source": [
    "class Solution():\n",
    "    \n",
    "    def MaxAdjustment(self,arr,n):            #在這裏構建一個Max Heap\n",
    "            N = len(arr)\n",
    "        \n",
    "            left_child=2*n                     #左邊child的index\n",
    "            right_child=2*n+1                #右邊child的index\n",
    "            parent = n\n",
    "            \n",
    "            if left_child > N:                  #排除left_node不存在的情況\n",
    "                return\n",
    "            \n",
    "            if arr[left_child] > arr[right_child] && arr[left_child] > arr[parent]:           #若left_child和parent、right_比較後是最大的，則maxnode是left_child\n",
    "                max_node = left_child         \n",
    "            elif arr[right_child] > arr[left_child] && arr[right_child] > arr[parent]:\n",
    "                max_node = right_child\n",
    "            else:\n",
    "                max_node = parent                                                               #反之，右邊較大則maxnode為right_child\n",
    "                \n",
    "            if arr[max_node] > arr[parent]:\n",
    "                arr[parent],arr[max_node] = arr[max_node],arr[parent]\n",
    "                \n",
    "                return MaxAdjustment(arr,max_node)            #此時parent的index變為max，檢查新的subtree是否符合maxheap\n",
    "            "
   ]
  },
  {
   "cell_type": "code",
   "execution_count": 36,
   "metadata": {},
   "outputs": [],
   "source": [
    "class Solution():\n",
    "    def MaxAdjustment(self,arr,n):            #在這裏構建一個Max Heap\n",
    "            N = len(arr)\n",
    "        \n",
    "            left_child=2*n                     #左邊child的index\n",
    "            right_child=2*n+1                #右邊child的index\n",
    "            parent = n\n",
    "\n",
    "            if arr[left_child] > arr[n]:           #若left_child和parent、right_比較後是最大的，則maxnode是left_child\n",
    "                max_node = left_child         \n",
    "            elif arr[right_child] > arr[n]:\n",
    "                max_node = right_child\n",
    "            else:\n",
    "                max_node = parent                                                               #反之，右邊較大則maxnode為right_child\n",
    "                \n",
    "            if arr[max_node] > arr[n]:\n",
    "                arr[n],arr[max_node] = arr[max_node],arr[n]\n",
    "                \n",
    "                return self.MaxAdjustment(arr,max_node)            #此時parent的index變為max，檢查新的subtree是否符合maxheap\n",
    "            "
   ]
  },
  {
   "cell_type": "code",
   "execution_count": 37,
   "metadata": {},
   "outputs": [
    {
     "ename": "IndexError",
     "evalue": "list index out of range",
     "output_type": "error",
     "traceback": [
      "\u001b[0;31m---------------------------------------------------------------------------\u001b[0m",
      "\u001b[0;31mIndexError\u001b[0m                                Traceback (most recent call last)",
      "\u001b[0;32m<ipython-input-37-e244d3179d82>\u001b[0m in \u001b[0;36m<module>\u001b[0;34m()\u001b[0m\n\u001b[1;32m      1\u001b[0m \u001b[0marr\u001b[0m \u001b[0;34m=\u001b[0m \u001b[0;34m[\u001b[0m\u001b[0;36m7\u001b[0m\u001b[0;34m,\u001b[0m\u001b[0;36m10\u001b[0m\u001b[0;34m,\u001b[0m\u001b[0;36m12\u001b[0m\u001b[0;34m,\u001b[0m\u001b[0;36m19\u001b[0m\u001b[0;34m,\u001b[0m\u001b[0;36m30\u001b[0m\u001b[0;34m,\u001b[0m\u001b[0;36m26\u001b[0m\u001b[0;34m,\u001b[0m\u001b[0;36m20\u001b[0m\u001b[0;34m,\u001b[0m\u001b[0;36m25\u001b[0m\u001b[0;34m,\u001b[0m\u001b[0;36m18\u001b[0m\u001b[0;34m]\u001b[0m\u001b[0;34m\u001b[0m\u001b[0m\n\u001b[1;32m      2\u001b[0m \u001b[0mp\u001b[0m \u001b[0;34m=\u001b[0m \u001b[0mSolution\u001b[0m\u001b[0;34m(\u001b[0m\u001b[0;34m)\u001b[0m\u001b[0;34m\u001b[0m\u001b[0m\n\u001b[0;32m----> 3\u001b[0;31m \u001b[0mp\u001b[0m\u001b[0;34m.\u001b[0m\u001b[0mMaxAdjustment\u001b[0m\u001b[0;34m(\u001b[0m\u001b[0marr\u001b[0m\u001b[0;34m,\u001b[0m\u001b[0;36m1\u001b[0m\u001b[0;34m)\u001b[0m\u001b[0;34m\u001b[0m\u001b[0m\n\u001b[0m",
      "\u001b[0;32m<ipython-input-36-7ee13b41abae>\u001b[0m in \u001b[0;36mMaxAdjustment\u001b[0;34m(self, arr, n)\u001b[0m\n\u001b[1;32m     17\u001b[0m                 \u001b[0marr\u001b[0m\u001b[0;34m[\u001b[0m\u001b[0mn\u001b[0m\u001b[0;34m]\u001b[0m\u001b[0;34m,\u001b[0m\u001b[0marr\u001b[0m\u001b[0;34m[\u001b[0m\u001b[0mmax_node\u001b[0m\u001b[0;34m]\u001b[0m \u001b[0;34m=\u001b[0m \u001b[0marr\u001b[0m\u001b[0;34m[\u001b[0m\u001b[0mmax_node\u001b[0m\u001b[0;34m]\u001b[0m\u001b[0;34m,\u001b[0m\u001b[0marr\u001b[0m\u001b[0;34m[\u001b[0m\u001b[0mn\u001b[0m\u001b[0;34m]\u001b[0m\u001b[0;34m\u001b[0m\u001b[0m\n\u001b[1;32m     18\u001b[0m \u001b[0;34m\u001b[0m\u001b[0m\n\u001b[0;32m---> 19\u001b[0;31m                 \u001b[0;32mreturn\u001b[0m \u001b[0mself\u001b[0m\u001b[0;34m.\u001b[0m\u001b[0mMaxAdjustment\u001b[0m\u001b[0;34m(\u001b[0m\u001b[0marr\u001b[0m\u001b[0;34m,\u001b[0m\u001b[0mmax_node\u001b[0m\u001b[0;34m)\u001b[0m            \u001b[0;31m#此時parent的index變為max，檢查新的subtree是否符合maxheap\u001b[0m\u001b[0;34m\u001b[0m\u001b[0m\n\u001b[0m\u001b[1;32m     20\u001b[0m \u001b[0;34m\u001b[0m\u001b[0m\n",
      "\u001b[0;32m<ipython-input-36-7ee13b41abae>\u001b[0m in \u001b[0;36mMaxAdjustment\u001b[0;34m(self, arr, n)\u001b[0m\n\u001b[1;32m     17\u001b[0m                 \u001b[0marr\u001b[0m\u001b[0;34m[\u001b[0m\u001b[0mn\u001b[0m\u001b[0;34m]\u001b[0m\u001b[0;34m,\u001b[0m\u001b[0marr\u001b[0m\u001b[0;34m[\u001b[0m\u001b[0mmax_node\u001b[0m\u001b[0;34m]\u001b[0m \u001b[0;34m=\u001b[0m \u001b[0marr\u001b[0m\u001b[0;34m[\u001b[0m\u001b[0mmax_node\u001b[0m\u001b[0;34m]\u001b[0m\u001b[0;34m,\u001b[0m\u001b[0marr\u001b[0m\u001b[0;34m[\u001b[0m\u001b[0mn\u001b[0m\u001b[0;34m]\u001b[0m\u001b[0;34m\u001b[0m\u001b[0m\n\u001b[1;32m     18\u001b[0m \u001b[0;34m\u001b[0m\u001b[0m\n\u001b[0;32m---> 19\u001b[0;31m                 \u001b[0;32mreturn\u001b[0m \u001b[0mself\u001b[0m\u001b[0;34m.\u001b[0m\u001b[0mMaxAdjustment\u001b[0m\u001b[0;34m(\u001b[0m\u001b[0marr\u001b[0m\u001b[0;34m,\u001b[0m\u001b[0mmax_node\u001b[0m\u001b[0;34m)\u001b[0m            \u001b[0;31m#此時parent的index變為max，檢查新的subtree是否符合maxheap\u001b[0m\u001b[0;34m\u001b[0m\u001b[0m\n\u001b[0m\u001b[1;32m     20\u001b[0m \u001b[0;34m\u001b[0m\u001b[0m\n",
      "\u001b[0;32m<ipython-input-36-7ee13b41abae>\u001b[0m in \u001b[0;36mMaxAdjustment\u001b[0;34m(self, arr, n)\u001b[0m\n\u001b[1;32m     17\u001b[0m                 \u001b[0marr\u001b[0m\u001b[0;34m[\u001b[0m\u001b[0mn\u001b[0m\u001b[0;34m]\u001b[0m\u001b[0;34m,\u001b[0m\u001b[0marr\u001b[0m\u001b[0;34m[\u001b[0m\u001b[0mmax_node\u001b[0m\u001b[0;34m]\u001b[0m \u001b[0;34m=\u001b[0m \u001b[0marr\u001b[0m\u001b[0;34m[\u001b[0m\u001b[0mmax_node\u001b[0m\u001b[0;34m]\u001b[0m\u001b[0;34m,\u001b[0m\u001b[0marr\u001b[0m\u001b[0;34m[\u001b[0m\u001b[0mn\u001b[0m\u001b[0;34m]\u001b[0m\u001b[0;34m\u001b[0m\u001b[0m\n\u001b[1;32m     18\u001b[0m \u001b[0;34m\u001b[0m\u001b[0m\n\u001b[0;32m---> 19\u001b[0;31m                 \u001b[0;32mreturn\u001b[0m \u001b[0mself\u001b[0m\u001b[0;34m.\u001b[0m\u001b[0mMaxAdjustment\u001b[0m\u001b[0;34m(\u001b[0m\u001b[0marr\u001b[0m\u001b[0;34m,\u001b[0m\u001b[0mmax_node\u001b[0m\u001b[0;34m)\u001b[0m            \u001b[0;31m#此時parent的index變為max，檢查新的subtree是否符合maxheap\u001b[0m\u001b[0;34m\u001b[0m\u001b[0m\n\u001b[0m\u001b[1;32m     20\u001b[0m \u001b[0;34m\u001b[0m\u001b[0m\n",
      "\u001b[0;32m<ipython-input-36-7ee13b41abae>\u001b[0m in \u001b[0;36mMaxAdjustment\u001b[0;34m(self, arr, n)\u001b[0m\n\u001b[1;32m      7\u001b[0m             \u001b[0mparent\u001b[0m \u001b[0;34m=\u001b[0m \u001b[0mn\u001b[0m\u001b[0;34m\u001b[0m\u001b[0m\n\u001b[1;32m      8\u001b[0m \u001b[0;34m\u001b[0m\u001b[0m\n\u001b[0;32m----> 9\u001b[0;31m             \u001b[0;32mif\u001b[0m \u001b[0marr\u001b[0m\u001b[0;34m[\u001b[0m\u001b[0mleft_child\u001b[0m\u001b[0;34m]\u001b[0m \u001b[0;34m>\u001b[0m \u001b[0marr\u001b[0m\u001b[0;34m[\u001b[0m\u001b[0mn\u001b[0m\u001b[0;34m]\u001b[0m\u001b[0;34m:\u001b[0m           \u001b[0;31m#若left_child和parent、right_比較後是最大的，則maxnode是left_child\u001b[0m\u001b[0;34m\u001b[0m\u001b[0m\n\u001b[0m\u001b[1;32m     10\u001b[0m                 \u001b[0mmax_node\u001b[0m \u001b[0;34m=\u001b[0m \u001b[0mleft_child\u001b[0m\u001b[0;34m\u001b[0m\u001b[0m\n\u001b[1;32m     11\u001b[0m             \u001b[0;32melif\u001b[0m \u001b[0marr\u001b[0m\u001b[0;34m[\u001b[0m\u001b[0mright_child\u001b[0m\u001b[0;34m]\u001b[0m \u001b[0;34m>\u001b[0m \u001b[0marr\u001b[0m\u001b[0;34m[\u001b[0m\u001b[0mn\u001b[0m\u001b[0;34m]\u001b[0m\u001b[0;34m:\u001b[0m\u001b[0;34m\u001b[0m\u001b[0m\n",
      "\u001b[0;31mIndexError\u001b[0m: list index out of range"
     ]
    }
   ],
   "source": [
    "arr = [7,10,12,19,30,26,20,25,18]\n",
    "p = Solution()\n",
    "p.MaxAdjustment(arr,1)"
   ]
  },
  {
   "cell_type": "code",
   "execution_count": 38,
   "metadata": {},
   "outputs": [],
   "source": [
    "class Solution():\n",
    "    def MaxAdjustment(self,arr,n):            #在這裏構建一個Max Heap\n",
    "            N = len(arr)\n",
    "        \n",
    "            left_child=2*n                     #左邊child的index\n",
    "            right_child=2*n+1                #右邊child的index\n",
    "            parent = n\n",
    "\n",
    "            if left_child <N and arr[left_child] > arr[n]:           #若left_child和parent、right_比較後是最大的，則maxnode是left_child\n",
    "                max_node = left_child         \n",
    "            elif right_child < N and arr[right_child] > arr[n]:\n",
    "                max_node = right_child\n",
    "            else:\n",
    "                max_node = parent                                                               #反之，右邊較大則maxnode為right_child\n",
    "                \n",
    "            if arr[max_node] > arr[n]:\n",
    "                arr[n],arr[max_node] = arr[max_node],arr[n]\n",
    "                \n",
    "                return self.MaxAdjustment(arr,max_node)            #此時parent的index變為max，檢查新的subtree是否符合maxheap"
   ]
  },
  {
   "cell_type": "code",
   "execution_count": 39,
   "metadata": {},
   "outputs": [
    {
     "name": "stdout",
     "output_type": "stream",
     "text": [
      "[1, 2, 3, 4, 5]\n"
     ]
    }
   ],
   "source": [
    "arr = [1,2,3,4,5]\n",
    "p = Solution()\n",
    "p.MaxAdjustment(arr,4)\n",
    "print(arr)"
   ]
  },
  {
   "cell_type": "code",
   "execution_count": 40,
   "metadata": {},
   "outputs": [],
   "source": [
    "class Solution():\n",
    "    def heapBuild(self,arr):     \n",
    "        N = len(arr)\n",
    "        for i in range(N,0,-1):\n",
    "            current_Index = i #當前index為i\n",
    "            parent_Index = (current_Index - 1)//2   #parentnode的index  這裡用//是因為遇到偶數時可以省略小數，找到parentnode的index\n",
    "            while arr[current_Index] > arr[parent_Index]:\n",
    "                arr[current_Index],arr[parent_Index] = arr[parent_Index],arr[current_Index]       #交換current_Index和parent的位置\n",
    "                current_Index = parent_Index                                     #當前node的index變為其本來的parentnode的index\n",
    "                parent_Index = (current_Index - 1)//2                         #原本parentnode的index變為原本當前node的index\n",
    "            "
   ]
  },
  {
   "cell_type": "code",
   "execution_count": 41,
   "metadata": {},
   "outputs": [
    {
     "ename": "IndexError",
     "evalue": "list index out of range",
     "output_type": "error",
     "traceback": [
      "\u001b[0;31m---------------------------------------------------------------------------\u001b[0m",
      "\u001b[0;31mIndexError\u001b[0m                                Traceback (most recent call last)",
      "\u001b[0;32m<ipython-input-41-baf3f13abe0e>\u001b[0m in \u001b[0;36m<module>\u001b[0;34m()\u001b[0m\n\u001b[1;32m      1\u001b[0m \u001b[0marr\u001b[0m \u001b[0;34m=\u001b[0m \u001b[0;34m[\u001b[0m\u001b[0;36m7\u001b[0m\u001b[0;34m,\u001b[0m\u001b[0;36m10\u001b[0m\u001b[0;34m,\u001b[0m\u001b[0;36m12\u001b[0m\u001b[0;34m,\u001b[0m\u001b[0;36m19\u001b[0m\u001b[0;34m,\u001b[0m\u001b[0;36m30\u001b[0m\u001b[0;34m,\u001b[0m\u001b[0;36m26\u001b[0m\u001b[0;34m]\u001b[0m\u001b[0;34m\u001b[0m\u001b[0m\n\u001b[1;32m      2\u001b[0m \u001b[0mq\u001b[0m \u001b[0;34m=\u001b[0m \u001b[0mSolution\u001b[0m\u001b[0;34m(\u001b[0m\u001b[0;34m)\u001b[0m\u001b[0;34m\u001b[0m\u001b[0m\n\u001b[0;32m----> 3\u001b[0;31m \u001b[0mq\u001b[0m\u001b[0;34m.\u001b[0m\u001b[0mheapBuild\u001b[0m\u001b[0;34m(\u001b[0m\u001b[0marr\u001b[0m\u001b[0;34m)\u001b[0m\u001b[0;34m\u001b[0m\u001b[0m\n\u001b[0m",
      "\u001b[0;32m<ipython-input-40-5fc8883bcb55>\u001b[0m in \u001b[0;36mheapBuild\u001b[0;34m(self, arr)\u001b[0m\n\u001b[1;32m      5\u001b[0m             \u001b[0mcurrent_Index\u001b[0m \u001b[0;34m=\u001b[0m \u001b[0mi\u001b[0m \u001b[0;31m#當前index為i\u001b[0m\u001b[0;34m\u001b[0m\u001b[0m\n\u001b[1;32m      6\u001b[0m             \u001b[0mparent_Index\u001b[0m \u001b[0;34m=\u001b[0m \u001b[0;34m(\u001b[0m\u001b[0mcurrent_Index\u001b[0m \u001b[0;34m-\u001b[0m \u001b[0;36m1\u001b[0m\u001b[0;34m)\u001b[0m\u001b[0;34m//\u001b[0m\u001b[0;36m2\u001b[0m   \u001b[0;31m#parentnode的index  這裡用//是因為遇到偶數時可以省略小數，找到parentnode的index\u001b[0m\u001b[0;34m\u001b[0m\u001b[0m\n\u001b[0;32m----> 7\u001b[0;31m             \u001b[0;32mwhile\u001b[0m \u001b[0marr\u001b[0m\u001b[0;34m[\u001b[0m\u001b[0mcurrent_Index\u001b[0m\u001b[0;34m]\u001b[0m \u001b[0;34m>\u001b[0m \u001b[0marr\u001b[0m\u001b[0;34m[\u001b[0m\u001b[0mparent_Index\u001b[0m\u001b[0;34m]\u001b[0m\u001b[0;34m:\u001b[0m\u001b[0;34m\u001b[0m\u001b[0m\n\u001b[0m\u001b[1;32m      8\u001b[0m                 \u001b[0marr\u001b[0m\u001b[0;34m[\u001b[0m\u001b[0mcurrent_Index\u001b[0m\u001b[0;34m]\u001b[0m\u001b[0;34m,\u001b[0m\u001b[0marr\u001b[0m\u001b[0;34m[\u001b[0m\u001b[0mparent_Index\u001b[0m\u001b[0;34m]\u001b[0m \u001b[0;34m=\u001b[0m \u001b[0marr\u001b[0m\u001b[0;34m[\u001b[0m\u001b[0mparent_Index\u001b[0m\u001b[0;34m]\u001b[0m\u001b[0;34m,\u001b[0m\u001b[0marr\u001b[0m\u001b[0;34m[\u001b[0m\u001b[0mcurrent_Index\u001b[0m\u001b[0;34m]\u001b[0m       \u001b[0;31m#交換current_Index和parent的位置\u001b[0m\u001b[0;34m\u001b[0m\u001b[0m\n\u001b[1;32m      9\u001b[0m                 \u001b[0mcurrent_Index\u001b[0m \u001b[0;34m=\u001b[0m \u001b[0mparent_Index\u001b[0m                                     \u001b[0;31m#當前node的index變為其本來的parentnode的index\u001b[0m\u001b[0;34m\u001b[0m\u001b[0m\n",
      "\u001b[0;31mIndexError\u001b[0m: list index out of range"
     ]
    }
   ],
   "source": [
    "arr = [7,10,12,19,30,26]\n",
    "q = Solution()\n",
    "q.heapBuild(arr)"
   ]
  },
  {
   "cell_type": "markdown",
   "metadata": {},
   "source": [
    "先建立一個heap，我這裡是選擇用Max heap："
   ]
  },
  {
   "cell_type": "code",
   "execution_count": 42,
   "metadata": {},
   "outputs": [],
   "source": [
    "class Solution():\n",
    "    def heapBuild(self,arr):     #建立max heap，currentnode從下往上依次和parentnode比較\n",
    "        N = len(arr)\n",
    "        for i in range(N-1,0,-1):\n",
    "            current_Index = i #當前index為i\n",
    "            parent_Index = (current_Index - 1)//2   #parentnode的index  這裡用//是因為遇到偶數時可以省略小數，找到parentnode的index\n",
    "            if arr[current_Index] > arr[parent_Index]:\n",
    "                arr[parent_Index],arr[current_Index] = arr[current_Index],arr[parent_Index]       #交換current_Index和parent的位置\n",
    "        return self.heapBuild(arr)"
   ]
  },
  {
   "cell_type": "code",
   "execution_count": 43,
   "metadata": {},
   "outputs": [
    {
     "ename": "RecursionError",
     "evalue": "maximum recursion depth exceeded in comparison",
     "output_type": "error",
     "traceback": [
      "\u001b[0;31m---------------------------------------------------------------------------\u001b[0m",
      "\u001b[0;31mRecursionError\u001b[0m                            Traceback (most recent call last)",
      "\u001b[0;32m<ipython-input-43-574490d1f4b5>\u001b[0m in \u001b[0;36m<module>\u001b[0;34m()\u001b[0m\n\u001b[1;32m      1\u001b[0m \u001b[0marr\u001b[0m \u001b[0;34m=\u001b[0m \u001b[0;34m[\u001b[0m\u001b[0;36m7\u001b[0m\u001b[0;34m,\u001b[0m\u001b[0;36m10\u001b[0m\u001b[0;34m,\u001b[0m\u001b[0;36m12\u001b[0m\u001b[0;34m,\u001b[0m\u001b[0;36m19\u001b[0m\u001b[0;34m,\u001b[0m\u001b[0;36m30\u001b[0m\u001b[0;34m,\u001b[0m\u001b[0;36m26\u001b[0m\u001b[0;34m,\u001b[0m\u001b[0;36m20\u001b[0m\u001b[0;34m,\u001b[0m\u001b[0;36m25\u001b[0m\u001b[0;34m]\u001b[0m\u001b[0;34m\u001b[0m\u001b[0m\n\u001b[1;32m      2\u001b[0m \u001b[0mq\u001b[0m \u001b[0;34m=\u001b[0m \u001b[0mSolution\u001b[0m\u001b[0;34m(\u001b[0m\u001b[0;34m)\u001b[0m\u001b[0;34m\u001b[0m\u001b[0m\n\u001b[0;32m----> 3\u001b[0;31m \u001b[0mq\u001b[0m\u001b[0;34m.\u001b[0m\u001b[0mheapBuild\u001b[0m\u001b[0;34m(\u001b[0m\u001b[0marr\u001b[0m\u001b[0;34m)\u001b[0m\u001b[0;34m\u001b[0m\u001b[0m\n\u001b[0m",
      "\u001b[0;32m<ipython-input-42-47002de85d13>\u001b[0m in \u001b[0;36mheapBuild\u001b[0;34m(self, arr)\u001b[0m\n\u001b[1;32m      7\u001b[0m             \u001b[0;32mif\u001b[0m \u001b[0marr\u001b[0m\u001b[0;34m[\u001b[0m\u001b[0mcurrent_Index\u001b[0m\u001b[0;34m]\u001b[0m \u001b[0;34m>\u001b[0m \u001b[0marr\u001b[0m\u001b[0;34m[\u001b[0m\u001b[0mparent_Index\u001b[0m\u001b[0;34m]\u001b[0m\u001b[0;34m:\u001b[0m\u001b[0;34m\u001b[0m\u001b[0m\n\u001b[1;32m      8\u001b[0m                 \u001b[0marr\u001b[0m\u001b[0;34m[\u001b[0m\u001b[0mparent_Index\u001b[0m\u001b[0;34m]\u001b[0m\u001b[0;34m,\u001b[0m\u001b[0marr\u001b[0m\u001b[0;34m[\u001b[0m\u001b[0mcurrent_Index\u001b[0m\u001b[0;34m]\u001b[0m \u001b[0;34m=\u001b[0m \u001b[0marr\u001b[0m\u001b[0;34m[\u001b[0m\u001b[0mcurrent_Index\u001b[0m\u001b[0;34m]\u001b[0m\u001b[0;34m,\u001b[0m\u001b[0marr\u001b[0m\u001b[0;34m[\u001b[0m\u001b[0mparent_Index\u001b[0m\u001b[0;34m]\u001b[0m       \u001b[0;31m#交換current_Index和parent的位置\u001b[0m\u001b[0;34m\u001b[0m\u001b[0m\n\u001b[0;32m----> 9\u001b[0;31m         \u001b[0;32mreturn\u001b[0m \u001b[0mself\u001b[0m\u001b[0;34m.\u001b[0m\u001b[0mheapBuild\u001b[0m\u001b[0;34m(\u001b[0m\u001b[0marr\u001b[0m\u001b[0;34m)\u001b[0m\u001b[0;34m\u001b[0m\u001b[0m\n\u001b[0m",
      "... last 1 frames repeated, from the frame below ...\n",
      "\u001b[0;32m<ipython-input-42-47002de85d13>\u001b[0m in \u001b[0;36mheapBuild\u001b[0;34m(self, arr)\u001b[0m\n\u001b[1;32m      7\u001b[0m             \u001b[0;32mif\u001b[0m \u001b[0marr\u001b[0m\u001b[0;34m[\u001b[0m\u001b[0mcurrent_Index\u001b[0m\u001b[0;34m]\u001b[0m \u001b[0;34m>\u001b[0m \u001b[0marr\u001b[0m\u001b[0;34m[\u001b[0m\u001b[0mparent_Index\u001b[0m\u001b[0;34m]\u001b[0m\u001b[0;34m:\u001b[0m\u001b[0;34m\u001b[0m\u001b[0m\n\u001b[1;32m      8\u001b[0m                 \u001b[0marr\u001b[0m\u001b[0;34m[\u001b[0m\u001b[0mparent_Index\u001b[0m\u001b[0;34m]\u001b[0m\u001b[0;34m,\u001b[0m\u001b[0marr\u001b[0m\u001b[0;34m[\u001b[0m\u001b[0mcurrent_Index\u001b[0m\u001b[0;34m]\u001b[0m \u001b[0;34m=\u001b[0m \u001b[0marr\u001b[0m\u001b[0;34m[\u001b[0m\u001b[0mcurrent_Index\u001b[0m\u001b[0;34m]\u001b[0m\u001b[0;34m,\u001b[0m\u001b[0marr\u001b[0m\u001b[0;34m[\u001b[0m\u001b[0mparent_Index\u001b[0m\u001b[0;34m]\u001b[0m       \u001b[0;31m#交換current_Index和parent的位置\u001b[0m\u001b[0;34m\u001b[0m\u001b[0m\n\u001b[0;32m----> 9\u001b[0;31m         \u001b[0;32mreturn\u001b[0m \u001b[0mself\u001b[0m\u001b[0;34m.\u001b[0m\u001b[0mheapBuild\u001b[0m\u001b[0;34m(\u001b[0m\u001b[0marr\u001b[0m\u001b[0;34m)\u001b[0m\u001b[0;34m\u001b[0m\u001b[0m\n\u001b[0m",
      "\u001b[0;31mRecursionError\u001b[0m: maximum recursion depth exceeded in comparison"
     ]
    }
   ],
   "source": [
    "arr = [7,10,12,19,30,26,20,25]\n",
    "q = Solution()\n",
    "q.heapBuild(arr)"
   ]
  },
  {
   "cell_type": "markdown",
   "metadata": {},
   "source": [
    "第一遍："
   ]
  },
  {
   "cell_type": "code",
   "execution_count": null,
   "metadata": {},
   "outputs": [],
   "source": [
    "class Solution():\n",
    "    def MaxAdjustment(self,arr,n):            \n",
    "            N = len(arr)\n",
    "    \n",
    "            left_child=2*n+1                    #左邊child的index\n",
    "            right_child=2*n+2             #右邊child的index\n",
    "            parent = n\n",
    "            while left_child < N:            #left_child存在的情況下才會進行比較\n",
    "                if arr[left_child] > arr[parent] and arr[left_child] > arr[right_child]:\n",
    "                    max_node = left_child\n",
    "                    arr[parent],arr[left_child] = arr[left_child],arr[parent]\n",
    "                elif right_child < N and arr[right_child] > arr[left_child] and arr[right_child] > arr[parent]:\n",
    "                    max_node = right_child\n",
    "                    arr[parent],arr[right_child] = arr[right_child],arr[parent]\n",
    "                else:\n",
    "                    max_node = parent\n",
    "                \n",
    "                return self.MaxAdjustment(arr,max_node)            #此時parent的index變為max，檢查新的subtree是否符合maxheap"
   ]
  },
  {
   "cell_type": "code",
   "execution_count": null,
   "metadata": {},
   "outputs": [],
   "source": [
    "arr = [7,10,12,19,30,26,20,25]\n",
    "p = Solution()\n",
    "p.MaxAdjustment(arr,0)\n",
    "arr"
   ]
  },
  {
   "cell_type": "markdown",
   "metadata": {},
   "source": [
    "第二遍："
   ]
  },
  {
   "cell_type": "code",
   "execution_count": 44,
   "metadata": {},
   "outputs": [],
   "source": [
    "class Solution():\n",
    "    \n",
    "    def heapBuild(self,arr):     #建立max heap，currentnode從下往上依次和parentnode比較\n",
    "        N = len(arr)\n",
    "        for i in range(N-1,0,-1):\n",
    "            current_Index = i #當前index為i，從後往前遍歷\n",
    "            parent_Index = (current_Index - 1)//2   #parentnode的index  這裡用//是因為遇到偶數時可以省略小數，找到parentnode的index\n",
    "            if arr[current_Index] > arr[parent_Index]:\n",
    "                arr[parent_Index],arr[current_Index] = arr[current_Index],arr[parent_Index]       #交換current_Index和parent的位置\n",
    "    \n",
    "    def MaxAdjustment(self,arr,n):    \n",
    "        N = len(arr)\n",
    "        left_child=2*n+1                    #左邊child的index\n",
    "        right_child=2*n+2             #右邊child的index\n",
    "        parent = n\n",
    "        while left_child < N:            #left_child存在的情況下才會進行比較\n",
    "            if arr[left_child] > arr[n] and arr[left_child] > arr[right_child]:\n",
    "                max_node = left_child\n",
    "                arr[parent],arr[left_child] = arr[left_child],arr[parent]\n",
    "            elif right_child < N and arr[right_child] > arr[left_child] and arr[right_child] > arr[parent]:\n",
    "                max_node = right_child\n",
    "                arr[parent],arr[right_child] = arr[right_child],arr[parent]\n",
    "            else:\n",
    "                max_node = parent\n",
    "            return self.MaxAdjustment(arr,max_node)            #此時parent的index變為max，檢查新的subtree是否符合maxheap\n",
    "        \n",
    "    def HeapSort(self,arr):\n",
    "        N = len(arr)\n",
    "        self.heapBuild(arr)\n",
    "        while N >1:  \n",
    "            arr[0],arr[-1] = arr[-1],arr[0]\n",
    "            self.MaxAdjustment(arr,0)\n",
    "    \n",
    "    \n",
    "    "
   ]
  },
  {
   "cell_type": "code",
   "execution_count": 45,
   "metadata": {},
   "outputs": [
    {
     "ename": "IndexError",
     "evalue": "list index out of range",
     "output_type": "error",
     "traceback": [
      "\u001b[0;31m---------------------------------------------------------------------------\u001b[0m",
      "\u001b[0;31mIndexError\u001b[0m                                Traceback (most recent call last)",
      "\u001b[0;32m<ipython-input-45-7a9b796ce99d>\u001b[0m in \u001b[0;36m<module>\u001b[0;34m()\u001b[0m\n\u001b[1;32m      1\u001b[0m \u001b[0marr\u001b[0m \u001b[0;34m=\u001b[0m \u001b[0;34m[\u001b[0m\u001b[0;36m7\u001b[0m\u001b[0;34m,\u001b[0m\u001b[0;36m10\u001b[0m\u001b[0;34m,\u001b[0m\u001b[0;36m12\u001b[0m\u001b[0;34m,\u001b[0m\u001b[0;36m19\u001b[0m\u001b[0;34m,\u001b[0m\u001b[0;36m30\u001b[0m\u001b[0;34m,\u001b[0m\u001b[0;36m26\u001b[0m\u001b[0;34m,\u001b[0m\u001b[0;36m20\u001b[0m\u001b[0;34m,\u001b[0m\u001b[0;36m25\u001b[0m\u001b[0;34m]\u001b[0m\u001b[0;34m\u001b[0m\u001b[0m\n\u001b[1;32m      2\u001b[0m \u001b[0mm\u001b[0m \u001b[0;34m=\u001b[0m \u001b[0mSolution\u001b[0m\u001b[0;34m(\u001b[0m\u001b[0;34m)\u001b[0m\u001b[0;34m\u001b[0m\u001b[0m\n\u001b[0;32m----> 3\u001b[0;31m \u001b[0mm\u001b[0m\u001b[0;34m.\u001b[0m\u001b[0mHeapSort\u001b[0m\u001b[0;34m(\u001b[0m\u001b[0marr\u001b[0m\u001b[0;34m)\u001b[0m\u001b[0;34m\u001b[0m\u001b[0m\n\u001b[0m",
      "\u001b[0;32m<ipython-input-44-7f359ac84412>\u001b[0m in \u001b[0;36mHeapSort\u001b[0;34m(self, arr)\u001b[0m\n\u001b[1;32m     30\u001b[0m         \u001b[0;32mwhile\u001b[0m \u001b[0mN\u001b[0m \u001b[0;34m>\u001b[0m\u001b[0;36m1\u001b[0m\u001b[0;34m:\u001b[0m\u001b[0;34m\u001b[0m\u001b[0m\n\u001b[1;32m     31\u001b[0m             \u001b[0marr\u001b[0m\u001b[0;34m[\u001b[0m\u001b[0;36m0\u001b[0m\u001b[0;34m]\u001b[0m\u001b[0;34m,\u001b[0m\u001b[0marr\u001b[0m\u001b[0;34m[\u001b[0m\u001b[0;34m-\u001b[0m\u001b[0;36m1\u001b[0m\u001b[0;34m]\u001b[0m \u001b[0;34m=\u001b[0m \u001b[0marr\u001b[0m\u001b[0;34m[\u001b[0m\u001b[0;34m-\u001b[0m\u001b[0;36m1\u001b[0m\u001b[0;34m]\u001b[0m\u001b[0;34m,\u001b[0m\u001b[0marr\u001b[0m\u001b[0;34m[\u001b[0m\u001b[0;36m0\u001b[0m\u001b[0;34m]\u001b[0m\u001b[0;34m\u001b[0m\u001b[0m\n\u001b[0;32m---> 32\u001b[0;31m             \u001b[0mself\u001b[0m\u001b[0;34m.\u001b[0m\u001b[0mMaxAdjustment\u001b[0m\u001b[0;34m(\u001b[0m\u001b[0marr\u001b[0m\u001b[0;34m,\u001b[0m\u001b[0;36m0\u001b[0m\u001b[0;34m)\u001b[0m\u001b[0;34m\u001b[0m\u001b[0m\n\u001b[0m\u001b[1;32m     33\u001b[0m \u001b[0;34m\u001b[0m\u001b[0m\n\u001b[1;32m     34\u001b[0m \u001b[0;34m\u001b[0m\u001b[0m\n",
      "\u001b[0;32m<ipython-input-44-7f359ac84412>\u001b[0m in \u001b[0;36mMaxAdjustment\u001b[0;34m(self, arr, n)\u001b[0m\n\u001b[1;32m     23\u001b[0m             \u001b[0;32melse\u001b[0m\u001b[0;34m:\u001b[0m\u001b[0;34m\u001b[0m\u001b[0m\n\u001b[1;32m     24\u001b[0m                 \u001b[0mmax_node\u001b[0m \u001b[0;34m=\u001b[0m \u001b[0mparent\u001b[0m\u001b[0;34m\u001b[0m\u001b[0m\n\u001b[0;32m---> 25\u001b[0;31m             \u001b[0;32mreturn\u001b[0m \u001b[0mself\u001b[0m\u001b[0;34m.\u001b[0m\u001b[0mMaxAdjustment\u001b[0m\u001b[0;34m(\u001b[0m\u001b[0marr\u001b[0m\u001b[0;34m,\u001b[0m\u001b[0mmax_node\u001b[0m\u001b[0;34m)\u001b[0m            \u001b[0;31m#此時parent的index變為max，檢查新的subtree是否符合maxheap\u001b[0m\u001b[0;34m\u001b[0m\u001b[0m\n\u001b[0m\u001b[1;32m     26\u001b[0m \u001b[0;34m\u001b[0m\u001b[0m\n\u001b[1;32m     27\u001b[0m     \u001b[0;32mdef\u001b[0m \u001b[0mHeapSort\u001b[0m\u001b[0;34m(\u001b[0m\u001b[0mself\u001b[0m\u001b[0;34m,\u001b[0m\u001b[0marr\u001b[0m\u001b[0;34m)\u001b[0m\u001b[0;34m:\u001b[0m\u001b[0;34m\u001b[0m\u001b[0m\n",
      "\u001b[0;32m<ipython-input-44-7f359ac84412>\u001b[0m in \u001b[0;36mMaxAdjustment\u001b[0;34m(self, arr, n)\u001b[0m\n\u001b[1;32m     23\u001b[0m             \u001b[0;32melse\u001b[0m\u001b[0;34m:\u001b[0m\u001b[0;34m\u001b[0m\u001b[0m\n\u001b[1;32m     24\u001b[0m                 \u001b[0mmax_node\u001b[0m \u001b[0;34m=\u001b[0m \u001b[0mparent\u001b[0m\u001b[0;34m\u001b[0m\u001b[0m\n\u001b[0;32m---> 25\u001b[0;31m             \u001b[0;32mreturn\u001b[0m \u001b[0mself\u001b[0m\u001b[0;34m.\u001b[0m\u001b[0mMaxAdjustment\u001b[0m\u001b[0;34m(\u001b[0m\u001b[0marr\u001b[0m\u001b[0;34m,\u001b[0m\u001b[0mmax_node\u001b[0m\u001b[0;34m)\u001b[0m            \u001b[0;31m#此時parent的index變為max，檢查新的subtree是否符合maxheap\u001b[0m\u001b[0;34m\u001b[0m\u001b[0m\n\u001b[0m\u001b[1;32m     26\u001b[0m \u001b[0;34m\u001b[0m\u001b[0m\n\u001b[1;32m     27\u001b[0m     \u001b[0;32mdef\u001b[0m \u001b[0mHeapSort\u001b[0m\u001b[0;34m(\u001b[0m\u001b[0mself\u001b[0m\u001b[0;34m,\u001b[0m\u001b[0marr\u001b[0m\u001b[0;34m)\u001b[0m\u001b[0;34m:\u001b[0m\u001b[0;34m\u001b[0m\u001b[0m\n",
      "\u001b[0;32m<ipython-input-44-7f359ac84412>\u001b[0m in \u001b[0;36mMaxAdjustment\u001b[0;34m(self, arr, n)\u001b[0m\n\u001b[1;32m     15\u001b[0m         \u001b[0mparent\u001b[0m \u001b[0;34m=\u001b[0m \u001b[0mn\u001b[0m\u001b[0;34m\u001b[0m\u001b[0m\n\u001b[1;32m     16\u001b[0m         \u001b[0;32mwhile\u001b[0m \u001b[0mleft_child\u001b[0m \u001b[0;34m<\u001b[0m \u001b[0mN\u001b[0m\u001b[0;34m:\u001b[0m            \u001b[0;31m#left_child存在的情況下才會進行比較\u001b[0m\u001b[0;34m\u001b[0m\u001b[0m\n\u001b[0;32m---> 17\u001b[0;31m             \u001b[0;32mif\u001b[0m \u001b[0marr\u001b[0m\u001b[0;34m[\u001b[0m\u001b[0mleft_child\u001b[0m\u001b[0;34m]\u001b[0m \u001b[0;34m>\u001b[0m \u001b[0marr\u001b[0m\u001b[0;34m[\u001b[0m\u001b[0mn\u001b[0m\u001b[0;34m]\u001b[0m \u001b[0;32mand\u001b[0m \u001b[0marr\u001b[0m\u001b[0;34m[\u001b[0m\u001b[0mleft_child\u001b[0m\u001b[0;34m]\u001b[0m \u001b[0;34m>\u001b[0m \u001b[0marr\u001b[0m\u001b[0;34m[\u001b[0m\u001b[0mright_child\u001b[0m\u001b[0;34m]\u001b[0m\u001b[0;34m:\u001b[0m\u001b[0;34m\u001b[0m\u001b[0m\n\u001b[0m\u001b[1;32m     18\u001b[0m                 \u001b[0mmax_node\u001b[0m \u001b[0;34m=\u001b[0m \u001b[0mleft_child\u001b[0m\u001b[0;34m\u001b[0m\u001b[0m\n\u001b[1;32m     19\u001b[0m                 \u001b[0marr\u001b[0m\u001b[0;34m[\u001b[0m\u001b[0mparent\u001b[0m\u001b[0;34m]\u001b[0m\u001b[0;34m,\u001b[0m\u001b[0marr\u001b[0m\u001b[0;34m[\u001b[0m\u001b[0mleft_child\u001b[0m\u001b[0;34m]\u001b[0m \u001b[0;34m=\u001b[0m \u001b[0marr\u001b[0m\u001b[0;34m[\u001b[0m\u001b[0mleft_child\u001b[0m\u001b[0;34m]\u001b[0m\u001b[0;34m,\u001b[0m\u001b[0marr\u001b[0m\u001b[0;34m[\u001b[0m\u001b[0mparent\u001b[0m\u001b[0;34m]\u001b[0m\u001b[0;34m\u001b[0m\u001b[0m\n",
      "\u001b[0;31mIndexError\u001b[0m: list index out of range"
     ]
    }
   ],
   "source": [
    "arr = [7,10,12,19,30,26,20,25]\n",
    "m = Solution()\n",
    "m.HeapSort(arr)\n"
   ]
  },
  {
   "cell_type": "code",
   "execution_count": 46,
   "metadata": {},
   "outputs": [],
   "source": [
    "class Solution():\n",
    "    def MaxAdjustment(self,arr,n):            \n",
    "            N = len(arr)\n",
    "    \n",
    "            left_child=2*n+1                    #左邊child的index\n",
    "            right_child=2*n+2             #右邊child的index\n",
    "            parent = n\n",
    "            while left_child < N:            #left_child存在的情況下才會進行比較\n",
    "                if arr[left_child] > arr[n] and arr[left_child] > arr[right_child]:\n",
    "                    max_node = left_child\n",
    "                    arr[parent],arr[left_child] = arr[left_child],arr[parent]\n",
    "                elif arr[parent] > arr[left_child] and arr[parent] > arr[right_chile]:\n",
    "                    max_node = parent\n",
    "                else:\n",
    "                    max_node = right_child\n",
    "                \n",
    "                return self.MaxAdjustment(arr,max_node)            #此時parent的index變為max，檢查新的subtree是否符合maxheap"
   ]
  },
  {
   "cell_type": "code",
   "execution_count": 47,
   "metadata": {},
   "outputs": [],
   "source": [
    "arr = [7,10,12,19,30,26,20,25]\n",
    "p = Solution()\n",
    "p.MaxAdjustment(arr,1)"
   ]
  },
  {
   "cell_type": "code",
   "execution_count": 48,
   "metadata": {},
   "outputs": [
    {
     "data": {
      "text/plain": [
       "<__main__.Solution at 0x1062c3be0>"
      ]
     },
     "execution_count": 48,
     "metadata": {},
     "output_type": "execute_result"
    }
   ],
   "source": [
    "p"
   ]
  },
  {
   "cell_type": "code",
   "execution_count": 49,
   "metadata": {},
   "outputs": [],
   "source": [
    "class Solution():\n",
    "    def MaxAdjustment(self,arr,n):            \n",
    "            N = len(arr)\n",
    "    \n",
    "            left_child=2*n+1                    #左邊child的index\n",
    "            right_child=2*n+2             #右邊child的index\n",
    "            parent = n\n",
    "            while left_child < N:            #left_child存在的情況下才會進行比較\n",
    "                if arr[left_child] > arr[parent]:\n",
    "                    max_node = left_child\n",
    "                else:\n",
    "                    max_node = parent\n",
    "                    \n",
    "            while right_child < N:\n",
    "                if arr[right_child] > arr[parent]:\n",
    "                    max_node = right_child\n",
    "                else:\n",
    "                    max_node = parent\n",
    "                    \n",
    "            if arr[parent] < arr[max_node]:\n",
    "                arr[parent],arr[max_node] = arr[max_node], arr[parent]\n",
    "                \n",
    "                return self.MaxAdjustment(arr,max_node)            #此時parent的index變為max，檢查新的subtree是否符合maxheap"
   ]
  },
  {
   "cell_type": "code",
   "execution_count": 50,
   "metadata": {},
   "outputs": [
    {
     "ename": "KeyboardInterrupt",
     "evalue": "",
     "output_type": "error",
     "traceback": [
      "\u001b[0;31m---------------------------------------------------------------------------\u001b[0m",
      "\u001b[0;31mKeyboardInterrupt\u001b[0m                         Traceback (most recent call last)",
      "\u001b[0;32m<ipython-input-50-95c5562c4eaa>\u001b[0m in \u001b[0;36m<module>\u001b[0;34m()\u001b[0m\n\u001b[1;32m      1\u001b[0m \u001b[0marr\u001b[0m \u001b[0;34m=\u001b[0m \u001b[0;34m[\u001b[0m\u001b[0;36m7\u001b[0m\u001b[0;34m,\u001b[0m\u001b[0;36m10\u001b[0m\u001b[0;34m,\u001b[0m\u001b[0;36m12\u001b[0m\u001b[0;34m,\u001b[0m\u001b[0;36m19\u001b[0m\u001b[0;34m,\u001b[0m\u001b[0;36m30\u001b[0m\u001b[0;34m,\u001b[0m\u001b[0;36m26\u001b[0m\u001b[0;34m,\u001b[0m\u001b[0;36m20\u001b[0m\u001b[0;34m,\u001b[0m\u001b[0;36m25\u001b[0m\u001b[0;34m]\u001b[0m\u001b[0;34m\u001b[0m\u001b[0m\n\u001b[1;32m      2\u001b[0m \u001b[0mp\u001b[0m \u001b[0;34m=\u001b[0m \u001b[0mSolution\u001b[0m\u001b[0;34m(\u001b[0m\u001b[0;34m)\u001b[0m\u001b[0;34m\u001b[0m\u001b[0m\n\u001b[0;32m----> 3\u001b[0;31m \u001b[0mp\u001b[0m\u001b[0;34m.\u001b[0m\u001b[0mMaxAdjustment\u001b[0m\u001b[0;34m(\u001b[0m\u001b[0marr\u001b[0m\u001b[0;34m,\u001b[0m\u001b[0;36m0\u001b[0m\u001b[0;34m)\u001b[0m\u001b[0;34m\u001b[0m\u001b[0m\n\u001b[0m\u001b[1;32m      4\u001b[0m \u001b[0marr\u001b[0m\u001b[0;34m\u001b[0m\u001b[0m\n",
      "\u001b[0;32m<ipython-input-49-76e616dfca71>\u001b[0m in \u001b[0;36mMaxAdjustment\u001b[0;34m(self, arr, n)\u001b[0m\n\u001b[1;32m      6\u001b[0m             \u001b[0mright_child\u001b[0m\u001b[0;34m=\u001b[0m\u001b[0;36m2\u001b[0m\u001b[0;34m*\u001b[0m\u001b[0mn\u001b[0m\u001b[0;34m+\u001b[0m\u001b[0;36m2\u001b[0m             \u001b[0;31m#右邊child的index\u001b[0m\u001b[0;34m\u001b[0m\u001b[0m\n\u001b[1;32m      7\u001b[0m             \u001b[0mparent\u001b[0m \u001b[0;34m=\u001b[0m \u001b[0mn\u001b[0m\u001b[0;34m\u001b[0m\u001b[0m\n\u001b[0;32m----> 8\u001b[0;31m             \u001b[0;32mwhile\u001b[0m \u001b[0mleft_child\u001b[0m \u001b[0;34m<\u001b[0m \u001b[0mN\u001b[0m\u001b[0;34m:\u001b[0m            \u001b[0;31m#left_child存在的情況下才會進行比較\u001b[0m\u001b[0;34m\u001b[0m\u001b[0m\n\u001b[0m\u001b[1;32m      9\u001b[0m                 \u001b[0;32mif\u001b[0m \u001b[0marr\u001b[0m\u001b[0;34m[\u001b[0m\u001b[0mleft_child\u001b[0m\u001b[0;34m]\u001b[0m \u001b[0;34m>\u001b[0m \u001b[0marr\u001b[0m\u001b[0;34m[\u001b[0m\u001b[0mparent\u001b[0m\u001b[0;34m]\u001b[0m\u001b[0;34m:\u001b[0m\u001b[0;34m\u001b[0m\u001b[0m\n\u001b[1;32m     10\u001b[0m                     \u001b[0mmax_node\u001b[0m \u001b[0;34m=\u001b[0m \u001b[0mleft_child\u001b[0m\u001b[0;34m\u001b[0m\u001b[0m\n",
      "\u001b[0;31mKeyboardInterrupt\u001b[0m: "
     ]
    }
   ],
   "source": [
    "arr = [7,10,12,19,30,26,20,25]\n",
    "p = Solution()\n",
    "p.MaxAdjustment(arr,0)\n",
    "arr"
   ]
  },
  {
   "cell_type": "code",
   "execution_count": null,
   "metadata": {},
   "outputs": [],
   "source": [
    "p"
   ]
  },
  {
   "cell_type": "code",
   "execution_count": 51,
   "metadata": {},
   "outputs": [],
   "source": [
    "class Solution():\n",
    "    def MaxAdjustment(self,arr,n):            \n",
    "            N = len(arr)\n",
    "            global max_node\n",
    "            left_child=2*n+1                    #左邊child的index\n",
    "            right_child=2*n+2             #右邊child的index\n",
    "            parent = n\n",
    "            \n",
    "            if left_child < N and arr[left_child] > arr[right_child]:             #left_child存在的情況下才會進行比較\n",
    "                max_node = left_child\n",
    "                    \n",
    "            if right_child < N and arr[right_child] > arr[left_child]:\n",
    "                    max_node = right_child\n",
    "                    \n",
    "            if arr[parent] < arr[max_node]:\n",
    "                arr[parent],arr[max_node] = arr[max_node], arr[parent]\n",
    "                \n",
    "                return self.MaxAdjustment(arr,max_node)            #此時parent的index變為max，檢查新的subtree是否符合maxheap"
   ]
  },
  {
   "cell_type": "code",
   "execution_count": 52,
   "metadata": {},
   "outputs": [
    {
     "data": {
      "text/plain": [
       "[12, 10, 26, 19, 30, 7, 20, 25]"
      ]
     },
     "execution_count": 52,
     "metadata": {},
     "output_type": "execute_result"
    }
   ],
   "source": [
    "arr = [7,10,12,19,30,26,20,25]\n",
    "p = Solution()\n",
    "p.MaxAdjustment(arr,0)\n",
    "arr"
   ]
  },
  {
   "cell_type": "code",
   "execution_count": 53,
   "metadata": {},
   "outputs": [],
   "source": [
    "class Solution():\n",
    "    \n",
    "    def heapBuild(self,arr):     #建立max heap，currentnode從下往上依次和parentnode比較\n",
    "        N = len(arr)\n",
    "        for i in range(N-1,0,-1):\n",
    "            current_Index = i #當前index為i\n",
    "            parent_Index = (current_Index - 1)//2   #parentnode的index  這裡用//是因為遇到偶數時可以省略小數，找到parentnode的index\n",
    "            if arr[current_Index] > arr[parent_Index]:\n",
    "                arr[parent_Index],arr[current_Index] = arr[current_Index],arr[parent_Index]       #交換current_Index和parent的位置\n",
    "        \n",
    "    def HeapSort(self,arr):\n",
    "        N = len(arr)\n",
    "        self.heapBuild(arr)\n",
    "       \n",
    "    \n",
    "    \n",
    "    "
   ]
  },
  {
   "cell_type": "code",
   "execution_count": 54,
   "metadata": {},
   "outputs": [
    {
     "data": {
      "text/plain": [
       "[30, 26, 20, 25, 10, 12, 7, 19]"
      ]
     },
     "execution_count": 54,
     "metadata": {},
     "output_type": "execute_result"
    }
   ],
   "source": [
    "arr = [30,26,7,25,10,20,12,19]\n",
    "p = Solution()\n",
    "p.HeapSort(arr)\n",
    "arr"
   ]
  },
  {
   "cell_type": "code",
   "execution_count": 55,
   "metadata": {},
   "outputs": [
    {
     "data": {
      "text/plain": [
       "[30, 26, 20, 25, 10, 12, 7, 19]"
      ]
     },
     "execution_count": 55,
     "metadata": {},
     "output_type": "execute_result"
    }
   ],
   "source": [
    "arr = [30,26,20,25,10,12,7,19]\n",
    "p = Solution()\n",
    "p.HeapSort(arr)\n",
    "arr"
   ]
  },
  {
   "cell_type": "code",
   "execution_count": 56,
   "metadata": {},
   "outputs": [
    {
     "data": {
      "text/plain": [
       "[30, 26, 7, 25, 10, 20, 12, 19]"
      ]
     },
     "execution_count": 56,
     "metadata": {},
     "output_type": "execute_result"
    }
   ],
   "source": [
    "arr = [7,10,12,19,30,26,20,25]\n",
    "p = Solution()\n",
    "p.HeapSort(arr)\n",
    "arr"
   ]
  },
  {
   "cell_type": "code",
   "execution_count": 57,
   "metadata": {},
   "outputs": [],
   "source": [
    "class Solution():\n",
    "    \n",
    "    def heapBuild(self,arr):     #建立max heap，currentnode從下往上依次和parentnode比較\n",
    "        N = len(arr)\n",
    "        for i in range(N-1,0,-1):\n",
    "            current_Index = i #當前index為i\n",
    "            parent_Index = (current_Index - 1)//2   #parentnode的index  這裡用//是因為遇到偶數時可以省略小數，找到parentnode的index\n",
    "            if arr[current_Index] > arr[parent_Index]:\n",
    "                arr[parent_Index],arr[current_Index] = arr[current_Index],arr[parent_Index]       #交換current_Index和parent的位置\n",
    "    \n",
    "    def MaxAdjustment(self,arr,n, N):    \n",
    "        \n",
    "        left_child=2*n+1                    #左邊child的index\n",
    "        right_child=2*n+2             #右邊child的index\n",
    "        parent = n\n",
    "        while left_child < N:            #left_child存在的情況下才會進行比較\n",
    "            if arr[left_child] > arr[n] and arr[left_child] > arr[right_child]:\n",
    "                max_node = left_child\n",
    "                arr[parent],arr[left_child] = arr[left_child],arr[parent]\n",
    "            elif right_child < N and arr[right_child] > arr[left_child] and arr[right_child] > arr[parent]:\n",
    "                max_node = right_child\n",
    "                arr[parent],arr[right_child] = arr[right_child],arr[parent]\n",
    "            else:\n",
    "                max_node = parent\n",
    "                            #此時parent的index變為max，檢查新的subtree是否符合maxheap\n",
    "        \n",
    "    def HeapSort(self,arr):\n",
    "        N = len(arr)\n",
    "        self.heapBuild(arr)\n",
    "        while N >1:  \n",
    "            arr[0],arr[-1] = arr[-1],arr[0]\n",
    "            N -= 1\n",
    "            self.MaxAdjustment(arr,0,N)\n",
    "    \n",
    "    "
   ]
  },
  {
   "cell_type": "code",
   "execution_count": 60,
   "metadata": {},
   "outputs": [
    {
     "ename": "KeyboardInterrupt",
     "evalue": "",
     "output_type": "error",
     "traceback": [
      "\u001b[0;31m---------------------------------------------------------------------------\u001b[0m",
      "\u001b[0;31mKeyboardInterrupt\u001b[0m                         Traceback (most recent call last)",
      "\u001b[0;32m<ipython-input-60-46e1d9fc81bd>\u001b[0m in \u001b[0;36m<module>\u001b[0;34m()\u001b[0m\n\u001b[1;32m      1\u001b[0m \u001b[0marr\u001b[0m \u001b[0;34m=\u001b[0m \u001b[0;34m[\u001b[0m\u001b[0;36m7\u001b[0m\u001b[0;34m,\u001b[0m\u001b[0;36m10\u001b[0m\u001b[0;34m,\u001b[0m\u001b[0;36m12\u001b[0m\u001b[0;34m,\u001b[0m\u001b[0;36m19\u001b[0m\u001b[0;34m,\u001b[0m\u001b[0;36m30\u001b[0m\u001b[0;34m,\u001b[0m\u001b[0;36m26\u001b[0m\u001b[0;34m,\u001b[0m\u001b[0;36m20\u001b[0m\u001b[0;34m,\u001b[0m\u001b[0;36m25\u001b[0m\u001b[0;34m]\u001b[0m\u001b[0;34m\u001b[0m\u001b[0m\n\u001b[1;32m      2\u001b[0m \u001b[0mp\u001b[0m \u001b[0;34m=\u001b[0m \u001b[0mSolution\u001b[0m\u001b[0;34m(\u001b[0m\u001b[0;34m)\u001b[0m\u001b[0;34m\u001b[0m\u001b[0m\n\u001b[0;32m----> 3\u001b[0;31m \u001b[0mp\u001b[0m\u001b[0;34m.\u001b[0m\u001b[0mHeapSort\u001b[0m\u001b[0;34m(\u001b[0m\u001b[0marr\u001b[0m\u001b[0;34m)\u001b[0m\u001b[0;34m\u001b[0m\u001b[0m\n\u001b[0m\u001b[1;32m      4\u001b[0m \u001b[0marr\u001b[0m\u001b[0;34m\u001b[0m\u001b[0m\n",
      "\u001b[0;32m<ipython-input-57-d439ac09968a>\u001b[0m in \u001b[0;36mHeapSort\u001b[0;34m(self, arr)\u001b[0m\n\u001b[1;32m     31\u001b[0m             \u001b[0marr\u001b[0m\u001b[0;34m[\u001b[0m\u001b[0;36m0\u001b[0m\u001b[0;34m]\u001b[0m\u001b[0;34m,\u001b[0m\u001b[0marr\u001b[0m\u001b[0;34m[\u001b[0m\u001b[0;34m-\u001b[0m\u001b[0;36m1\u001b[0m\u001b[0;34m]\u001b[0m \u001b[0;34m=\u001b[0m \u001b[0marr\u001b[0m\u001b[0;34m[\u001b[0m\u001b[0;34m-\u001b[0m\u001b[0;36m1\u001b[0m\u001b[0;34m]\u001b[0m\u001b[0;34m,\u001b[0m\u001b[0marr\u001b[0m\u001b[0;34m[\u001b[0m\u001b[0;36m0\u001b[0m\u001b[0;34m]\u001b[0m\u001b[0;34m\u001b[0m\u001b[0m\n\u001b[1;32m     32\u001b[0m             \u001b[0mN\u001b[0m \u001b[0;34m-=\u001b[0m \u001b[0;36m1\u001b[0m\u001b[0;34m\u001b[0m\u001b[0m\n\u001b[0;32m---> 33\u001b[0;31m             \u001b[0mself\u001b[0m\u001b[0;34m.\u001b[0m\u001b[0mMaxAdjustment\u001b[0m\u001b[0;34m(\u001b[0m\u001b[0marr\u001b[0m\u001b[0;34m,\u001b[0m\u001b[0;36m0\u001b[0m\u001b[0;34m,\u001b[0m\u001b[0mN\u001b[0m\u001b[0;34m)\u001b[0m\u001b[0;34m\u001b[0m\u001b[0m\n\u001b[0m\u001b[1;32m     34\u001b[0m \u001b[0;34m\u001b[0m\u001b[0m\n\u001b[1;32m     35\u001b[0m \u001b[0;34m\u001b[0m\u001b[0m\n",
      "\u001b[0;32m<ipython-input-57-d439ac09968a>\u001b[0m in \u001b[0;36mMaxAdjustment\u001b[0;34m(self, arr, n, N)\u001b[0m\n\u001b[1;32m     22\u001b[0m                 \u001b[0marr\u001b[0m\u001b[0;34m[\u001b[0m\u001b[0mparent\u001b[0m\u001b[0;34m]\u001b[0m\u001b[0;34m,\u001b[0m\u001b[0marr\u001b[0m\u001b[0;34m[\u001b[0m\u001b[0mright_child\u001b[0m\u001b[0;34m]\u001b[0m \u001b[0;34m=\u001b[0m \u001b[0marr\u001b[0m\u001b[0;34m[\u001b[0m\u001b[0mright_child\u001b[0m\u001b[0;34m]\u001b[0m\u001b[0;34m,\u001b[0m\u001b[0marr\u001b[0m\u001b[0;34m[\u001b[0m\u001b[0mparent\u001b[0m\u001b[0;34m]\u001b[0m\u001b[0;34m\u001b[0m\u001b[0m\n\u001b[1;32m     23\u001b[0m             \u001b[0;32melse\u001b[0m\u001b[0;34m:\u001b[0m\u001b[0;34m\u001b[0m\u001b[0m\n\u001b[0;32m---> 24\u001b[0;31m                 \u001b[0mmax_node\u001b[0m \u001b[0;34m=\u001b[0m \u001b[0mparent\u001b[0m\u001b[0;34m\u001b[0m\u001b[0m\n\u001b[0m\u001b[1;32m     25\u001b[0m                             \u001b[0;31m#此時parent的index變為max，檢查新的subtree是否符合maxheap\u001b[0m\u001b[0;34m\u001b[0m\u001b[0;34m\u001b[0m\u001b[0m\n\u001b[1;32m     26\u001b[0m \u001b[0;34m\u001b[0m\u001b[0m\n",
      "\u001b[0;31mKeyboardInterrupt\u001b[0m: "
     ]
    }
   ],
   "source": [
    "arr = [7,10,12,19,30,26,20,25]\n",
    "p = Solution()\n",
    "p.HeapSort(arr)\n",
    "arr"
   ]
  },
  {
   "cell_type": "code",
   "execution_count": 61,
   "metadata": {},
   "outputs": [
    {
     "ename": "SyntaxError",
     "evalue": "invalid syntax (<ipython-input-61-d182e2359eaf>, line 4)",
     "output_type": "error",
     "traceback": [
      "\u001b[0;36m  File \u001b[0;32m\"<ipython-input-61-d182e2359eaf>\"\u001b[0;36m, line \u001b[0;32m4\u001b[0m\n\u001b[0;31m    for n=(N-1)/2\u001b[0m\n\u001b[0m         ^\u001b[0m\n\u001b[0;31mSyntaxError\u001b[0m\u001b[0;31m:\u001b[0m invalid syntax\n"
     ]
    }
   ],
   "source": [
    "class Solution():\n",
    "    def HeapSort(self,arr,N):\n",
    "        N = len(arr)\n",
    "        for n=(N-1)/2\n",
    "\n",
    "\n",
    "def Heapfy(self,arr,n,N):\n",
    "    N = len(arr)\n",
    "    left_child = 2*n+1\n",
    "    right_child =2*n+2\n",
    "    parent = n\n",
    "    \n",
    "    if parent > N:\n",
    "        return\n",
    "    \n",
    "    if right_child < N and arr[parent] < arr[right_child]:\n",
    "        max_node = right_child\n",
    "    if left_child < N and arr[parent] < arr[left_child]:\n",
    "        max_node = left_child\n",
    "    if max_node != parent:\n",
    "        if right_child < N and max_node = right_child:\n",
    "            arr[parent],arr[right_child] = arr[right_child].arr[parent]\n",
    "            self.Heapfy(arr,right_child,N)\n",
    "        if left_child < N and max_node = left_child:\n",
    "            arr[parent],arr[left_child] = arr[left_child],arr[parent]\n",
    "            self.Heapfy(arr,left_child,N)\n",
    "            \n",
    "    "
   ]
  },
  {
   "cell_type": "code",
   "execution_count": 62,
   "metadata": {},
   "outputs": [],
   "source": [
    "class Solution():\n",
    "    def Heapfy(self,arr,n):\n",
    "        global max_node\n",
    "        N = len(arr)\n",
    "        left_child = 2*n+1\n",
    "        right_child =2*n+2\n",
    "        parent = n\n",
    "        \n",
    "        \n",
    "        if parent > N:\n",
    "            return\n",
    "        if right_child < N and arr[parent] < arr[right_child]:\n",
    "            max_node = right_child\n",
    "        else:\n",
    "            max_node = parent\n",
    "            \n",
    "        if left_child < N and arr[parent] < arr[left_child]:\n",
    "            max_node = left_child\n",
    "        else:\n",
    "            max_node = parent\n",
    "            \n",
    "        if max_node != parent:\n",
    "            if right_child < N and max_node == right_child:\n",
    "                arr[parent],arr[right_child] = arr[right_child].arr[parent]\n",
    "                self.Heapfy(arr,right_child)\n",
    "            if left_child < N and max_node == left_child:\n",
    "                arr[parent],arr[left_child] = arr[left_child],arr[parent]\n",
    "                self.Heapfy(arr,left_child)\n",
    "            "
   ]
  },
  {
   "cell_type": "code",
   "execution_count": 63,
   "metadata": {},
   "outputs": [
    {
     "data": {
      "text/plain": [
       "[10, 19, 12, 25, 30, 26, 20, 7]"
      ]
     },
     "execution_count": 63,
     "metadata": {},
     "output_type": "execute_result"
    }
   ],
   "source": [
    "arr = [7,10,12,19,30,26,20,25]\n",
    "p = Solution()\n",
    "p.Heapfy(arr,0)\n",
    "arr"
   ]
  },
  {
   "cell_type": "code",
   "execution_count": 64,
   "metadata": {},
   "outputs": [],
   "source": [
    "class Solution():\n",
    "    def Heapfy(self,arr,n):\n",
    "        global max_node\n",
    "        N = len(arr)\n",
    "        left_child = 2*n+1\n",
    "        right_child =2*n+2\n",
    "        parent = n\n",
    "        \n",
    "        \n",
    "        if parent > N:\n",
    "            return\n",
    "        if right_child < N and arr[parent] < arr[right_child]:\n",
    "            max_node = right_child\n",
    "        else:\n",
    "            max_node = parent\n",
    "            \n",
    "        if left_child < N and arr[parent] < arr[left_child]:\n",
    "            max_node = left_child\n",
    "        else:\n",
    "            max_node = parent\n",
    "            \n",
    "        if max_node != parent:\n",
    "            if right_child < N and arr[parent] < arr[right_child] :\n",
    "                arr[parent],arr[right_child] = arr[right_child].arr[parent]\n",
    "                self.Heapfy(arr,right_child)\n",
    "            if left_child < N and arr[parent] < arr[left_child]:\n",
    "                arr[parent],arr[left_child] = arr[left_child],arr[parent]\n",
    "                self.Heapfy(arr,left_child)"
   ]
  },
  {
   "cell_type": "code",
   "execution_count": 65,
   "metadata": {},
   "outputs": [
    {
     "ename": "AttributeError",
     "evalue": "'int' object has no attribute 'arr'",
     "output_type": "error",
     "traceback": [
      "\u001b[0;31m---------------------------------------------------------------------------\u001b[0m",
      "\u001b[0;31mAttributeError\u001b[0m                            Traceback (most recent call last)",
      "\u001b[0;32m<ipython-input-65-7cc7aa5c0ac4>\u001b[0m in \u001b[0;36m<module>\u001b[0;34m()\u001b[0m\n\u001b[1;32m      1\u001b[0m \u001b[0marr\u001b[0m \u001b[0;34m=\u001b[0m \u001b[0;34m[\u001b[0m\u001b[0;36m7\u001b[0m\u001b[0;34m,\u001b[0m\u001b[0;36m10\u001b[0m\u001b[0;34m,\u001b[0m\u001b[0;36m12\u001b[0m\u001b[0;34m,\u001b[0m\u001b[0;36m19\u001b[0m\u001b[0;34m,\u001b[0m\u001b[0;36m30\u001b[0m\u001b[0;34m,\u001b[0m\u001b[0;36m26\u001b[0m\u001b[0;34m,\u001b[0m\u001b[0;36m20\u001b[0m\u001b[0;34m,\u001b[0m\u001b[0;36m25\u001b[0m\u001b[0;34m]\u001b[0m\u001b[0;34m\u001b[0m\u001b[0m\n\u001b[1;32m      2\u001b[0m \u001b[0mp\u001b[0m \u001b[0;34m=\u001b[0m \u001b[0mSolution\u001b[0m\u001b[0;34m(\u001b[0m\u001b[0;34m)\u001b[0m\u001b[0;34m\u001b[0m\u001b[0m\n\u001b[0;32m----> 3\u001b[0;31m \u001b[0mp\u001b[0m\u001b[0;34m.\u001b[0m\u001b[0mHeapfy\u001b[0m\u001b[0;34m(\u001b[0m\u001b[0marr\u001b[0m\u001b[0;34m,\u001b[0m\u001b[0;36m0\u001b[0m\u001b[0;34m)\u001b[0m\u001b[0;34m\u001b[0m\u001b[0m\n\u001b[0m\u001b[1;32m      4\u001b[0m \u001b[0marr\u001b[0m\u001b[0;34m\u001b[0m\u001b[0m\n",
      "\u001b[0;32m<ipython-input-64-ec0f1a4617c1>\u001b[0m in \u001b[0;36mHeapfy\u001b[0;34m(self, arr, n)\u001b[0m\n\u001b[1;32m     22\u001b[0m         \u001b[0;32mif\u001b[0m \u001b[0mmax_node\u001b[0m \u001b[0;34m!=\u001b[0m \u001b[0mparent\u001b[0m\u001b[0;34m:\u001b[0m\u001b[0;34m\u001b[0m\u001b[0m\n\u001b[1;32m     23\u001b[0m             \u001b[0;32mif\u001b[0m \u001b[0mright_child\u001b[0m \u001b[0;34m<\u001b[0m \u001b[0mN\u001b[0m \u001b[0;32mand\u001b[0m \u001b[0marr\u001b[0m\u001b[0;34m[\u001b[0m\u001b[0mparent\u001b[0m\u001b[0;34m]\u001b[0m \u001b[0;34m<\u001b[0m \u001b[0marr\u001b[0m\u001b[0;34m[\u001b[0m\u001b[0mright_child\u001b[0m\u001b[0;34m]\u001b[0m \u001b[0;34m:\u001b[0m\u001b[0;34m\u001b[0m\u001b[0m\n\u001b[0;32m---> 24\u001b[0;31m                 \u001b[0marr\u001b[0m\u001b[0;34m[\u001b[0m\u001b[0mparent\u001b[0m\u001b[0;34m]\u001b[0m\u001b[0;34m,\u001b[0m\u001b[0marr\u001b[0m\u001b[0;34m[\u001b[0m\u001b[0mright_child\u001b[0m\u001b[0;34m]\u001b[0m \u001b[0;34m=\u001b[0m \u001b[0marr\u001b[0m\u001b[0;34m[\u001b[0m\u001b[0mright_child\u001b[0m\u001b[0;34m]\u001b[0m\u001b[0;34m.\u001b[0m\u001b[0marr\u001b[0m\u001b[0;34m[\u001b[0m\u001b[0mparent\u001b[0m\u001b[0;34m]\u001b[0m\u001b[0;34m\u001b[0m\u001b[0m\n\u001b[0m\u001b[1;32m     25\u001b[0m                 \u001b[0mself\u001b[0m\u001b[0;34m.\u001b[0m\u001b[0mHeapfy\u001b[0m\u001b[0;34m(\u001b[0m\u001b[0marr\u001b[0m\u001b[0;34m,\u001b[0m\u001b[0mright_child\u001b[0m\u001b[0;34m)\u001b[0m\u001b[0;34m\u001b[0m\u001b[0m\n\u001b[1;32m     26\u001b[0m             \u001b[0;32mif\u001b[0m \u001b[0mleft_child\u001b[0m \u001b[0;34m<\u001b[0m \u001b[0mN\u001b[0m \u001b[0;32mand\u001b[0m \u001b[0marr\u001b[0m\u001b[0;34m[\u001b[0m\u001b[0mparent\u001b[0m\u001b[0;34m]\u001b[0m \u001b[0;34m<\u001b[0m \u001b[0marr\u001b[0m\u001b[0;34m[\u001b[0m\u001b[0mleft_child\u001b[0m\u001b[0;34m]\u001b[0m\u001b[0;34m:\u001b[0m\u001b[0;34m\u001b[0m\u001b[0m\n",
      "\u001b[0;31mAttributeError\u001b[0m: 'int' object has no attribute 'arr'"
     ]
    }
   ],
   "source": [
    "arr = [7,10,12,19,30,26,20,25]\n",
    "p = Solution()\n",
    "p.Heapfy(arr,0)\n",
    "arr"
   ]
  },
  {
   "cell_type": "code",
   "execution_count": 66,
   "metadata": {},
   "outputs": [],
   "source": [
    "class Solution():\n",
    "    def MaxAdjustment(self,arr,n):            \n",
    "            N = len(arr)\n",
    "            global max_node\n",
    "            left_child=2*n+1                    #左邊child的index\n",
    "            right_child=2*n+2             #右邊child的index\n",
    "            parent = n\n",
    "            \n",
    "            if left_child < N and arr[left_child] > arr[right_child]:             #left_child存在的情況下才會進行比較\n",
    "                max_node = left_child\n",
    "                    \n",
    "            if right_child < N and arr[right_child] > arr[left_child]:\n",
    "                    max_node = right_child\n",
    "                    \n",
    "            if arr[parent] < arr[max_node]:\n",
    "                arr[parent],arr[max_node] = arr[max_node], arr[parent]\n",
    "                \n",
    "                return self.MaxAdjustment(arr,max_node)            #此時parent的index變為max，檢查新的subtree是否符合maxheap"
   ]
  },
  {
   "cell_type": "code",
   "execution_count": 67,
   "metadata": {},
   "outputs": [],
   "source": [
    "class Solution():\n",
    "    def Heapfy(self,arr,n):\n",
    "        global max_node\n",
    "        N = len(arr)\n",
    "        left_child = 2*n+1\n",
    "        right_child =2*n+2\n",
    "        parent = n\n",
    "        \n",
    "        \n",
    "        if parent > N:\n",
    "            return\n",
    "        if right_child < N and arr[parent] < arr[right_child]:\n",
    "            max_node = right_child\n",
    "        else:\n",
    "            max_node = parent\n",
    "            \n",
    "        if left_child < N and arr[parent] < arr[left_child]:\n",
    "            max_node = left_child\n",
    "        else:\n",
    "            max_node = parent\n",
    "            \n",
    "        if max_node != parent:\n",
    "            if right_child < N and max_node == right_child:\n",
    "                arr[parent],arr[right_child] = arr[right_child].arr[parent]\n",
    "                self.Heapfy(arr,right_child)\n",
    "            if left_child < N and max_node == left_child:\n",
    "                arr[parent],arr[left_child] = arr[left_child],arr[parent]\n",
    "                self.Heapfy(arr,left_child)\n",
    "            "
   ]
  },
  {
   "cell_type": "code",
   "execution_count": 68,
   "metadata": {},
   "outputs": [
    {
     "ename": "IndentationError",
     "evalue": "expected an indented block (<ipython-input-68-af765c6daf2e>, line 27)",
     "output_type": "error",
     "traceback": [
      "\u001b[0;36m  File \u001b[0;32m\"<ipython-input-68-af765c6daf2e>\"\u001b[0;36m, line \u001b[0;32m27\u001b[0m\n\u001b[0;31m    arr[parent],arr[max_node] = arr[max_node], arr[parent]\u001b[0m\n\u001b[0m      ^\u001b[0m\n\u001b[0;31mIndentationError\u001b[0m\u001b[0;31m:\u001b[0m expected an indented block\n"
     ]
    }
   ],
   "source": [
    "class Solution():\n",
    "    \n",
    "    def heapBuild(self,arr):     #建立max heap，currentnode從下往上依次和parentnode比較\n",
    "        N = len(arr)\n",
    "        for i in range(N-1,0,-1):\n",
    "            current_Index = i #當前index為i，從後往前遍歷\n",
    "            parent_Index = (current_Index - 1)//2   #parentnode的index  這裡用//是因為遇到偶數時可以省略小數，找到parentnode的index\n",
    "            if arr[current_Index] > arr[parent_Index]:\n",
    "                arr[parent_Index],arr[current_Index] = arr[current_Index],arr[parent_Index]       #交換current_Index和parent的位置\n",
    "                \n",
    "    def MaxAdjustment(self,arr,n,N):            \n",
    "        global max_node\n",
    "        left_child=2*n+1                    #左邊child的index\n",
    "        right_child=2*n+2             #右邊child的index\n",
    "        parent = n\n",
    "        \n",
    "        while left_child < N:\n",
    "            if arr[left_child] > arr[right_child]:             #left_child存在的情況下才會進行比較\n",
    "                max_node = left_child\n",
    "            else:\n",
    "                    max_node = right_child\n",
    "            \n",
    "            if max_node == parent:\n",
    "                break\n",
    "            \n",
    "            if arr[parent] < arr[max_node]:\n",
    "            arr[parent],arr[max_node] = arr[max_node], arr[parent]\n",
    "            \n",
    "            n = max_node\n",
    "            left_child = 2*n+1\n",
    "            right_child = 2*n+2\n",
    "                           \n",
    "    \n",
    "    def HeapSort(self,arr):\n",
    "        N = len(arr)\n",
    "        self.heapBuild(arr)\n",
    "        while N >1:  \n",
    "            arr[0],arr[N-1] = arr[N-1],arr[0]\n",
    "            N=N-1\n",
    "            self.MaxAdjustment(arr,0,N)\n",
    "    \n",
    "    "
   ]
  },
  {
   "cell_type": "code",
   "execution_count": 69,
   "metadata": {},
   "outputs": [
    {
     "ename": "AttributeError",
     "evalue": "'Solution' object has no attribute 'HeapSort'",
     "output_type": "error",
     "traceback": [
      "\u001b[0;31m---------------------------------------------------------------------------\u001b[0m",
      "\u001b[0;31mAttributeError\u001b[0m                            Traceback (most recent call last)",
      "\u001b[0;32m<ipython-input-69-46e1d9fc81bd>\u001b[0m in \u001b[0;36m<module>\u001b[0;34m()\u001b[0m\n\u001b[1;32m      1\u001b[0m \u001b[0marr\u001b[0m \u001b[0;34m=\u001b[0m \u001b[0;34m[\u001b[0m\u001b[0;36m7\u001b[0m\u001b[0;34m,\u001b[0m\u001b[0;36m10\u001b[0m\u001b[0;34m,\u001b[0m\u001b[0;36m12\u001b[0m\u001b[0;34m,\u001b[0m\u001b[0;36m19\u001b[0m\u001b[0;34m,\u001b[0m\u001b[0;36m30\u001b[0m\u001b[0;34m,\u001b[0m\u001b[0;36m26\u001b[0m\u001b[0;34m,\u001b[0m\u001b[0;36m20\u001b[0m\u001b[0;34m,\u001b[0m\u001b[0;36m25\u001b[0m\u001b[0;34m]\u001b[0m\u001b[0;34m\u001b[0m\u001b[0m\n\u001b[1;32m      2\u001b[0m \u001b[0mp\u001b[0m \u001b[0;34m=\u001b[0m \u001b[0mSolution\u001b[0m\u001b[0;34m(\u001b[0m\u001b[0;34m)\u001b[0m\u001b[0;34m\u001b[0m\u001b[0m\n\u001b[0;32m----> 3\u001b[0;31m \u001b[0mp\u001b[0m\u001b[0;34m.\u001b[0m\u001b[0mHeapSort\u001b[0m\u001b[0;34m(\u001b[0m\u001b[0marr\u001b[0m\u001b[0;34m)\u001b[0m\u001b[0;34m\u001b[0m\u001b[0m\n\u001b[0m\u001b[1;32m      4\u001b[0m \u001b[0marr\u001b[0m\u001b[0;34m\u001b[0m\u001b[0m\n",
      "\u001b[0;31mAttributeError\u001b[0m: 'Solution' object has no attribute 'HeapSort'"
     ]
    }
   ],
   "source": [
    "arr = [7,10,12,19,30,26,20,25]\n",
    "p = Solution()\n",
    "p.HeapSort(arr)\n",
    "arr"
   ]
  },
  {
   "cell_type": "code",
   "execution_count": 70,
   "metadata": {},
   "outputs": [],
   "source": [
    "class Solution():\n",
    "    \n",
    "    def heapBuild(self,arr):     #建立max heap，currentnode從下往上依次和parentnode比較\n",
    "        N = len(arr)\n",
    "        for i in range(N-1,0,-1):\n",
    "            current_Index = i #當前index為i，從後往前遍歷\n",
    "            parent_Index = (current_Index - 1)//2   #parentnode的index  這裡用//是因為遇到偶數時可以省略小數，找到parentnode的index\n",
    "            if arr[current_Index] > arr[parent_Index]:\n",
    "                arr[parent_Index],arr[current_Index] = arr[current_Index],arr[parent_Index]       #交換current_Index和parent的位置\n",
    "                \n",
    "    def MaxAdjustment(self,arr,n,N):            \n",
    "        global max_node\n",
    "        left_child=2*n+1                    #左邊child的index\n",
    "        right_child=2*n+2             #右邊child的index\n",
    "        parent = n\n",
    "        \n",
    "        while left_child < N:\n",
    "            if right_child > N and arr[right_child] > arr[left_child]:             #left_child存在的情況下才會進行比較\n",
    "                max_node = right_child\n",
    "            else:\n",
    "                    max_node = left_child\n",
    "            \n",
    "            if max_node == parent:\n",
    "                break\n",
    "            \n",
    "            if arr[parent] < arr[max_node]:\n",
    "                arr[parent],arr[max_node] = arr[max_node], arr[parent]\n",
    "            \n",
    "            n = max_node\n",
    "            left_child = 2*n+1\n",
    "            right_child = 2*n+2\n",
    "                           \n",
    "    \n",
    "    def HeapSort(self,arr):\n",
    "        N = len(arr)\n",
    "        self.heapBuild(arr)\n",
    "        while N >1:  \n",
    "            arr[0],arr[N-1] = arr[N-1],arr[0]\n",
    "            N=N-1\n",
    "            self.MaxAdjustment(arr,0,N)\n",
    "    \n",
    "    "
   ]
  },
  {
   "cell_type": "code",
   "execution_count": 71,
   "metadata": {},
   "outputs": [
    {
     "data": {
      "text/plain": [
       "[7, 10, 12, 19, 20, 25, 26, 30]"
      ]
     },
     "execution_count": 71,
     "metadata": {},
     "output_type": "execute_result"
    }
   ],
   "source": [
    "arr = [7,10,12,19,30,26,20,25]\n",
    "p = Solution()\n",
    "p.HeapSort(arr)\n",
    "arr"
   ]
  },
  {
   "cell_type": "code",
   "execution_count": 72,
   "metadata": {},
   "outputs": [],
   "source": [
    "class Solution():\n",
    "    \n",
    "    def heapBuild(self,arr):     #建立max heap，currentnode從下往上依次和parentnode比較\n",
    "        N = len(arr)\n",
    "        for i in range(N-1,0,-1):\n",
    "            current_Index = i #當前index為i，從後往前遍歷\n",
    "            parent_Index = (current_Index - 1)//2   #parentnode的index  這裡用//是因為遇到偶數時可以省略小數，找到parentnode的index\n",
    "            while arr[current_Index] > arr[parent_Index]:\n",
    "                arr[parent_Index],arr[current_Index] = arr[current_Index],arr[parent_Index]       #交換current_Index和parent的位置\n",
    "                current_Index = parent_Index\n",
    "                parent_Index = (current_Index -1)//2\n",
    "                \n",
    "                \n",
    "    def MaxAdjustment(self,arr,n,N):            \n",
    "        global max_node\n",
    "        left_child=2*n+1                    #左邊child的index\n",
    "        right_child=2*n+2             #右邊child的index\n",
    "        parent = n\n",
    "        \n",
    "        while left_child < N:\n",
    "            if right_child > N and arr[right_child] > arr[left_child]:             #left_child存在的情況下才會進行比較\n",
    "                max_node = right_child\n",
    "            else:\n",
    "                    max_node = left_child\n",
    "            \n",
    "            if max_node == parent:\n",
    "                break\n",
    "            \n",
    "            if arr[parent] < arr[max_node]:\n",
    "                arr[parent],arr[max_node] = arr[max_node], arr[parent]\n",
    "            \n",
    "            n = max_node\n",
    "            left_child = 2*n+1\n",
    "            right_child = 2*n+2\n",
    "                           \n",
    "    \n",
    "    def HeapSort(self,arr):\n",
    "        N = len(arr)\n",
    "        self.heapBuild(arr)\n",
    "        while N >1:  \n",
    "            arr[0],arr[N-1] = arr[N-1],arr[0]\n",
    "            N=N-1\n",
    "            self.MaxAdjustment(arr,0,N)\n",
    "    \n",
    "    "
   ]
  },
  {
   "cell_type": "code",
   "execution_count": 73,
   "metadata": {},
   "outputs": [
    {
     "data": {
      "text/plain": [
       "[7, 20, 10, 12, 19, 25, 30, 26]"
      ]
     },
     "execution_count": 73,
     "metadata": {},
     "output_type": "execute_result"
    }
   ],
   "source": [
    "arr = [7,10,12,19,30,26,20,25]\n",
    "p = Solution()\n",
    "p.HeapSort(arr)\n",
    "arr"
   ]
  },
  {
   "cell_type": "code",
   "execution_count": 74,
   "metadata": {},
   "outputs": [],
   "source": [
    "def MaxAdjustment(self,arr,n,N):            \n",
    "        global max_node\n",
    "        left_child=2*n+1                    #左邊child的index\n",
    "        right_child=2*n+2             #右邊child的index\n",
    "        parent = n\n",
    "        \n",
    "        while left_child < N:\n",
    "            if right_child > N and arr[right_child] > arr[left_child]:             #left_child存在的情況下才會進行比較\n",
    "                max_node = right_child\n",
    "            else:\n",
    "                    max_node = left_child\n",
    "            \n",
    "            if max_node == parent:\n",
    "                break\n",
    "            \n",
    "            if arr[parent] < arr[max_node]:\n",
    "                arr[parent],arr[max_node] = arr[max_node], arr[parent]\n",
    "            \n",
    "            n = max_node\n",
    "            left_child = 2*n+1\n",
    "            right_child = 2*n+2"
   ]
  },
  {
   "cell_type": "code",
   "execution_count": 75,
   "metadata": {},
   "outputs": [
    {
     "data": {
      "text/plain": [
       "[30, 26, 7, 25, 10, 12, 20, 19]"
      ]
     },
     "execution_count": 75,
     "metadata": {},
     "output_type": "execute_result"
    }
   ],
   "source": [
    "arr = [30,26,7,25,10,12,20,19]\n",
    "p = Solution()\n",
    "p.MaxAdjustment(arr,0,8)\n",
    "arr"
   ]
  },
  {
   "cell_type": "code",
   "execution_count": 88,
   "metadata": {},
   "outputs": [],
   "source": [
    "class Solution():\n",
    "    def heapbuild(self,arr):\n",
    "        N = len(arr)\n",
    "        for n in range(N//2-1, -1, -1):\n",
    "            self.MaxAdjustment(arr,n,N)\n",
    "        \n",
    "    def MaxAdjustment(self,arr,n,N):\n",
    "        global max_node\n",
    "        left_child = 2*n +1\n",
    "        right_child = 2*n +2\n",
    "        parent = n\n",
    "        if left_child < N and arr[left_child] > arr[parent]:\n",
    "            max_node = left_child\n",
    "        else:\n",
    "            max_node = parent\n",
    "            \n",
    "        if right_child < N and arr[right_child] > arr[parent]:\n",
    "            max_node = right_child\n",
    "        else:\n",
    "            max_node = right_child\n",
    "        \n",
    "        if max_node != parent:\n",
    "            arr[parent],arr[max_node] = arr[max_node],arr[parent]\n",
    "            return self.MaxAdjustment(arr,max_node,N)\n",
    "        \n",
    "    def heapsort(self,arr):\n",
    "        self.heapbuild(arr)\n",
    "        N = len(arr)\n",
    "        for i in range(N - 1, 0 ,-1):\n",
    "            arr[0],arr[i] = arr[i],arr[0]\n",
    "            N = N-1\n",
    "            self.MaxAdjustment(arr,0,N)\n",
    "                "
   ]
  },
  {
   "cell_type": "code",
   "execution_count": 89,
   "metadata": {},
   "outputs": [
    {
     "ename": "IndexError",
     "evalue": "list index out of range",
     "output_type": "error",
     "traceback": [
      "\u001b[0;31m---------------------------------------------------------------------------\u001b[0m",
      "\u001b[0;31mIndexError\u001b[0m                                Traceback (most recent call last)",
      "\u001b[0;32m<ipython-input-89-876d367cc09c>\u001b[0m in \u001b[0;36m<module>\u001b[0;34m()\u001b[0m\n\u001b[1;32m      1\u001b[0m \u001b[0marr\u001b[0m \u001b[0;34m=\u001b[0m \u001b[0;34m[\u001b[0m\u001b[0;36m7\u001b[0m\u001b[0;34m,\u001b[0m\u001b[0;36m10\u001b[0m\u001b[0;34m,\u001b[0m\u001b[0;36m12\u001b[0m\u001b[0;34m,\u001b[0m\u001b[0;36m19\u001b[0m\u001b[0;34m,\u001b[0m\u001b[0;36m30\u001b[0m\u001b[0;34m,\u001b[0m\u001b[0;36m26\u001b[0m\u001b[0;34m,\u001b[0m\u001b[0;36m20\u001b[0m\u001b[0;34m,\u001b[0m\u001b[0;36m25\u001b[0m\u001b[0;34m]\u001b[0m\u001b[0;34m\u001b[0m\u001b[0m\n\u001b[1;32m      2\u001b[0m \u001b[0mp\u001b[0m \u001b[0;34m=\u001b[0m \u001b[0mSolution\u001b[0m\u001b[0;34m(\u001b[0m\u001b[0;34m)\u001b[0m\u001b[0;34m\u001b[0m\u001b[0m\n\u001b[0;32m----> 3\u001b[0;31m \u001b[0mp\u001b[0m\u001b[0;34m.\u001b[0m\u001b[0mheapsort\u001b[0m\u001b[0;34m(\u001b[0m\u001b[0marr\u001b[0m\u001b[0;34m)\u001b[0m\u001b[0;34m\u001b[0m\u001b[0m\n\u001b[0m\u001b[1;32m      4\u001b[0m \u001b[0marr\u001b[0m\u001b[0;34m\u001b[0m\u001b[0m\n",
      "\u001b[0;32m<ipython-input-88-4121b0260e26>\u001b[0m in \u001b[0;36mheapsort\u001b[0;34m(self, arr)\u001b[0m\n\u001b[1;32m     25\u001b[0m \u001b[0;34m\u001b[0m\u001b[0m\n\u001b[1;32m     26\u001b[0m     \u001b[0;32mdef\u001b[0m \u001b[0mheapsort\u001b[0m\u001b[0;34m(\u001b[0m\u001b[0mself\u001b[0m\u001b[0;34m,\u001b[0m\u001b[0marr\u001b[0m\u001b[0;34m)\u001b[0m\u001b[0;34m:\u001b[0m\u001b[0;34m\u001b[0m\u001b[0m\n\u001b[0;32m---> 27\u001b[0;31m         \u001b[0mself\u001b[0m\u001b[0;34m.\u001b[0m\u001b[0mheapbuild\u001b[0m\u001b[0;34m(\u001b[0m\u001b[0marr\u001b[0m\u001b[0;34m)\u001b[0m\u001b[0;34m\u001b[0m\u001b[0m\n\u001b[0m\u001b[1;32m     28\u001b[0m         \u001b[0mN\u001b[0m \u001b[0;34m=\u001b[0m \u001b[0mlen\u001b[0m\u001b[0;34m(\u001b[0m\u001b[0marr\u001b[0m\u001b[0;34m)\u001b[0m\u001b[0;34m\u001b[0m\u001b[0m\n\u001b[1;32m     29\u001b[0m         \u001b[0;32mfor\u001b[0m \u001b[0mi\u001b[0m \u001b[0;32min\u001b[0m \u001b[0mrange\u001b[0m\u001b[0;34m(\u001b[0m\u001b[0mN\u001b[0m \u001b[0;34m-\u001b[0m \u001b[0;36m1\u001b[0m\u001b[0;34m,\u001b[0m \u001b[0;36m0\u001b[0m \u001b[0;34m,\u001b[0m\u001b[0;34m-\u001b[0m\u001b[0;36m1\u001b[0m\u001b[0;34m)\u001b[0m\u001b[0;34m:\u001b[0m\u001b[0;34m\u001b[0m\u001b[0m\n",
      "\u001b[0;32m<ipython-input-88-4121b0260e26>\u001b[0m in \u001b[0;36mheapbuild\u001b[0;34m(self, arr)\u001b[0m\n\u001b[1;32m      3\u001b[0m         \u001b[0mN\u001b[0m \u001b[0;34m=\u001b[0m \u001b[0mlen\u001b[0m\u001b[0;34m(\u001b[0m\u001b[0marr\u001b[0m\u001b[0;34m)\u001b[0m\u001b[0;34m\u001b[0m\u001b[0m\n\u001b[1;32m      4\u001b[0m         \u001b[0;32mfor\u001b[0m \u001b[0mn\u001b[0m \u001b[0;32min\u001b[0m \u001b[0mrange\u001b[0m\u001b[0;34m(\u001b[0m\u001b[0mN\u001b[0m\u001b[0;34m//\u001b[0m\u001b[0;36m2\u001b[0m\u001b[0;34m-\u001b[0m\u001b[0;36m1\u001b[0m\u001b[0;34m,\u001b[0m \u001b[0;34m-\u001b[0m\u001b[0;36m1\u001b[0m\u001b[0;34m,\u001b[0m \u001b[0;34m-\u001b[0m\u001b[0;36m1\u001b[0m\u001b[0;34m)\u001b[0m\u001b[0;34m:\u001b[0m\u001b[0;34m\u001b[0m\u001b[0m\n\u001b[0;32m----> 5\u001b[0;31m             \u001b[0mself\u001b[0m\u001b[0;34m.\u001b[0m\u001b[0mMaxAdjustment\u001b[0m\u001b[0;34m(\u001b[0m\u001b[0marr\u001b[0m\u001b[0;34m,\u001b[0m\u001b[0mn\u001b[0m\u001b[0;34m,\u001b[0m\u001b[0mN\u001b[0m\u001b[0;34m)\u001b[0m\u001b[0;34m\u001b[0m\u001b[0m\n\u001b[0m\u001b[1;32m      6\u001b[0m \u001b[0;34m\u001b[0m\u001b[0m\n\u001b[1;32m      7\u001b[0m     \u001b[0;32mdef\u001b[0m \u001b[0mMaxAdjustment\u001b[0m\u001b[0;34m(\u001b[0m\u001b[0mself\u001b[0m\u001b[0;34m,\u001b[0m\u001b[0marr\u001b[0m\u001b[0;34m,\u001b[0m\u001b[0mn\u001b[0m\u001b[0;34m,\u001b[0m\u001b[0mN\u001b[0m\u001b[0;34m)\u001b[0m\u001b[0;34m:\u001b[0m\u001b[0;34m\u001b[0m\u001b[0m\n",
      "\u001b[0;32m<ipython-input-88-4121b0260e26>\u001b[0m in \u001b[0;36mMaxAdjustment\u001b[0;34m(self, arr, n, N)\u001b[0m\n\u001b[1;32m     21\u001b[0m \u001b[0;34m\u001b[0m\u001b[0m\n\u001b[1;32m     22\u001b[0m         \u001b[0;32mif\u001b[0m \u001b[0mmax_node\u001b[0m \u001b[0;34m!=\u001b[0m \u001b[0mparent\u001b[0m\u001b[0;34m:\u001b[0m\u001b[0;34m\u001b[0m\u001b[0m\n\u001b[0;32m---> 23\u001b[0;31m             \u001b[0marr\u001b[0m\u001b[0;34m[\u001b[0m\u001b[0mparent\u001b[0m\u001b[0;34m]\u001b[0m\u001b[0;34m,\u001b[0m\u001b[0marr\u001b[0m\u001b[0;34m[\u001b[0m\u001b[0mmax_node\u001b[0m\u001b[0;34m]\u001b[0m \u001b[0;34m=\u001b[0m \u001b[0marr\u001b[0m\u001b[0;34m[\u001b[0m\u001b[0mmax_node\u001b[0m\u001b[0;34m]\u001b[0m\u001b[0;34m,\u001b[0m\u001b[0marr\u001b[0m\u001b[0;34m[\u001b[0m\u001b[0mparent\u001b[0m\u001b[0;34m]\u001b[0m\u001b[0;34m\u001b[0m\u001b[0m\n\u001b[0m\u001b[1;32m     24\u001b[0m             \u001b[0;32mreturn\u001b[0m \u001b[0mself\u001b[0m\u001b[0;34m.\u001b[0m\u001b[0mMaxAdjustment\u001b[0m\u001b[0;34m(\u001b[0m\u001b[0marr\u001b[0m\u001b[0;34m,\u001b[0m\u001b[0mmax_node\u001b[0m\u001b[0;34m,\u001b[0m\u001b[0mN\u001b[0m\u001b[0;34m)\u001b[0m\u001b[0;34m\u001b[0m\u001b[0m\n\u001b[1;32m     25\u001b[0m \u001b[0;34m\u001b[0m\u001b[0m\n",
      "\u001b[0;31mIndexError\u001b[0m: list index out of range"
     ]
    }
   ],
   "source": [
    "arr = [7,10,12,19,30,26,20,25]\n",
    "p = Solution()\n",
    "p.heapsort(arr)\n",
    "arr"
   ]
  },
  {
   "cell_type": "markdown",
   "metadata": {},
   "source": [
    "一開始while迴圈內部邏輯搞錯，如果left_child和right_child同時大於max_node，子節點和父節點的位置交換會出現錯誤。例如678，這裡只會交換6和7，則排序為768"
   ]
  },
  {
   "cell_type": "code",
   "execution_count": 90,
   "metadata": {},
   "outputs": [],
   "source": [
    "class Solution():\n",
    "    def maxheapify(self,arr,n,m):\n",
    "        \"\"\"\n",
    "        維護max heap(因為最大值和最後一個值交換位置後會破壞原來的max heap結構)\n",
    "        \"\"\"\n",
    "        left_child = 2*n+1          #左邊child的index\n",
    "        right_child = 2*n+2                                  #右邊child的index,right_child = 2*n+2  \n",
    "        max_node = n              #假設當前的max_node為parent\n",
    "        \n",
    "        while left_child < m or right_child < m:     #只有left_child存在的情況下才會進行判斷\n",
    "            if arr[left_child] > arr[max_node]:    #比較leftchild和maxnode大小，若比maxnode大，則把其index更改為leftchild的index\n",
    "                max_node = left_child\n",
    "            elif arr[right_child] > arr[max_node]:   #只有rightchild存在的情況下才會進行判斷\n",
    "                max_node = right_child                                                 #再比較rightchild和maxnode的大小。可能為原maxnode，可能為已經更改的maxnode\n",
    "            else:\n",
    "                break\n",
    "        \n",
    "        if max_node != n:             #如果max_node的index已經發生改變，則交換vaule的位置\n",
    "            arr[n], arr[max_node] = arr[max_node],arr[n]\n",
    "            Solution.maxheapify(arr,max_node,m)    #再對新的subtree進行檢查，看是否符合max heap的性質，直到找到最大值為止\n",
    "        \n",
    "    def heapbuild(self,arr):\n",
    "        \"\"\"\n",
    "        構建max heap\n",
    "        \"\"\"\n",
    "        m=len(arr)\n",
    "        i = int(len(arr) / 2 - 1)             #非葉子節點的index。假設list有8個node，則非葉子節點的index為0，1，2，3\n",
    "        while i >= 0:                  #從最後一個非葉子節點開始\n",
    "            Solution.maxheapify(arr,i,m)\n",
    "            i -= 1\n",
    "    \n",
    "    def heap_sort(self,arr):\n",
    "        Solution.heapbuild(arr)\n",
    "        m = len(arr)                                           \n",
    "        while m >= 0:\n",
    "            arr[0],arr[len(arr)-1] = arr[len(arr)-1],arr[0]\n",
    "            m= m-1\n",
    "            Solultion.maxheapify(arr,0,m)"
   ]
  },
  {
   "cell_type": "code",
   "execution_count": 91,
   "metadata": {},
   "outputs": [
    {
     "ename": "TypeError",
     "evalue": "heapbuild() missing 1 required positional argument: 'arr'",
     "output_type": "error",
     "traceback": [
      "\u001b[0;31m---------------------------------------------------------------------------\u001b[0m",
      "\u001b[0;31mTypeError\u001b[0m                                 Traceback (most recent call last)",
      "\u001b[0;32m<ipython-input-91-5a4dc568dc5d>\u001b[0m in \u001b[0;36m<module>\u001b[0;34m()\u001b[0m\n\u001b[1;32m      1\u001b[0m \u001b[0marr\u001b[0m \u001b[0;34m=\u001b[0m \u001b[0;34m[\u001b[0m\u001b[0;36m7\u001b[0m\u001b[0;34m,\u001b[0m\u001b[0;36m10\u001b[0m\u001b[0;34m,\u001b[0m\u001b[0;36m12\u001b[0m\u001b[0;34m,\u001b[0m\u001b[0;36m19\u001b[0m\u001b[0;34m,\u001b[0m\u001b[0;36m30\u001b[0m\u001b[0;34m,\u001b[0m\u001b[0;36m20\u001b[0m\u001b[0;34m,\u001b[0m\u001b[0;36m11\u001b[0m\u001b[0;34m]\u001b[0m\u001b[0;34m\u001b[0m\u001b[0m\n\u001b[1;32m      2\u001b[0m \u001b[0mp\u001b[0m \u001b[0;34m=\u001b[0m \u001b[0mSolution\u001b[0m\u001b[0;34m(\u001b[0m\u001b[0;34m)\u001b[0m\u001b[0;34m\u001b[0m\u001b[0m\n\u001b[0;32m----> 3\u001b[0;31m \u001b[0mp\u001b[0m\u001b[0;34m.\u001b[0m\u001b[0mheap_sort\u001b[0m\u001b[0;34m(\u001b[0m\u001b[0marr\u001b[0m\u001b[0;34m)\u001b[0m\u001b[0;34m\u001b[0m\u001b[0m\n\u001b[0m\u001b[1;32m      4\u001b[0m \u001b[0marr\u001b[0m\u001b[0;34m\u001b[0m\u001b[0m\n",
      "\u001b[0;32m<ipython-input-90-ca721dfdb3c5>\u001b[0m in \u001b[0;36mheap_sort\u001b[0;34m(self, arr)\u001b[0m\n\u001b[1;32m     31\u001b[0m \u001b[0;34m\u001b[0m\u001b[0m\n\u001b[1;32m     32\u001b[0m     \u001b[0;32mdef\u001b[0m \u001b[0mheap_sort\u001b[0m\u001b[0;34m(\u001b[0m\u001b[0mself\u001b[0m\u001b[0;34m,\u001b[0m\u001b[0marr\u001b[0m\u001b[0;34m)\u001b[0m\u001b[0;34m:\u001b[0m\u001b[0;34m\u001b[0m\u001b[0m\n\u001b[0;32m---> 33\u001b[0;31m         \u001b[0mSolution\u001b[0m\u001b[0;34m.\u001b[0m\u001b[0mheapbuild\u001b[0m\u001b[0;34m(\u001b[0m\u001b[0marr\u001b[0m\u001b[0;34m)\u001b[0m\u001b[0;34m\u001b[0m\u001b[0m\n\u001b[0m\u001b[1;32m     34\u001b[0m         \u001b[0mm\u001b[0m \u001b[0;34m=\u001b[0m \u001b[0mlen\u001b[0m\u001b[0;34m(\u001b[0m\u001b[0marr\u001b[0m\u001b[0;34m)\u001b[0m\u001b[0;34m\u001b[0m\u001b[0m\n\u001b[1;32m     35\u001b[0m         \u001b[0;32mwhile\u001b[0m \u001b[0mm\u001b[0m \u001b[0;34m>=\u001b[0m \u001b[0;36m0\u001b[0m\u001b[0;34m:\u001b[0m\u001b[0;34m\u001b[0m\u001b[0m\n",
      "\u001b[0;31mTypeError\u001b[0m: heapbuild() missing 1 required positional argument: 'arr'"
     ]
    }
   ],
   "source": [
    "arr = [7,10,12,19,30,20,11]\n",
    "p = Solution()\n",
    "p.heap_sort(arr)\n",
    "arr"
   ]
  },
  {
   "cell_type": "markdown",
   "metadata": {},
   "source": [
    "這裡還是error，檢查發現maxheapify裡面的while迴圈的邏輯還是有錯，如果right_child不存在的話，while裡面的if不會去執行，最後連left_child也不會與max_node進行比較。"
   ]
  },
  {
   "cell_type": "code",
   "execution_count": 92,
   "metadata": {},
   "outputs": [],
   "source": [
    "class Solution():\n",
    "    def maxheapify(self,arr,n,m):\n",
    "        \"\"\"\n",
    "        維護max heap(因為最大值和最後一個值交換位置後會破壞原來的max heap結構)\n",
    "        \"\"\"\n",
    "        left_child = 2*n+1          #左邊child的index\n",
    "        right_child = 2*n+2                                  #右邊child的index,right_child = 2*n+2  \n",
    "        max_node = n              #假設當前的max_node為parent\n",
    "        \n",
    "        while left_child < m or right_child < m:     #只有left_child存在的情況下才會進行判斷\n",
    "            if arr[left_child] > arr[right_child]:    #比較leftchild和maxnode大小，若比maxnode大，則把其index更改為leftchild的index\n",
    "                if arr[left_child] > arr[max_node]:\n",
    "                    max_node = left_child\n",
    "                else:\n",
    "                    break\n",
    "            else:\n",
    "                if arr[right_child] > arr[max_node]:\n",
    "                    max_node = right_child\n",
    "                else:\n",
    "                    break\n",
    "                \n",
    "        \n",
    "        if max_node != n:             #如果max_node的index已經發生改變，則交換vaule的位置\n",
    "            arr[n], arr[max_node] = arr[max_node],arr[n]\n",
    "            Solution.maxheapify(arr,max_node,m)    #再對新的subtree進行檢查，看是否符合max heap的性質，直到找到最大值為止\n",
    "        \n",
    "    def heapbuild(self,arr):\n",
    "        \"\"\"\n",
    "        構建max heap\n",
    "        \"\"\"\n",
    "        m=len(arr)\n",
    "        i = int(len(arr) / 2 - 1)             #非葉子節點的index。假設list有8個node，則非葉子節點的index為0，1，2，3\n",
    "        while i >= 0:                  #從最後一個非葉子節點開始\n",
    "            Solution.maxheapify(arr,i,m)\n",
    "            i -= 1\n",
    "        return arr\n",
    "    \n",
    "    def heap_sort(self,arr):\n",
    "        Solution.heapbuild(arr)\n",
    "        m = len(arr)\n",
    "        while m >= 0:\n",
    "            arr[0],arr[len(arr)-1] = arr[len(arr)-1],arr[0]\n",
    "            m= m-1\n",
    "            Solution.maxheapify(arr,0,m)"
   ]
  },
  {
   "cell_type": "code",
   "execution_count": 93,
   "metadata": {},
   "outputs": [
    {
     "ename": "TypeError",
     "evalue": "heap_sort() missing 1 required positional argument: 'arr'",
     "output_type": "error",
     "traceback": [
      "\u001b[0;31m---------------------------------------------------------------------------\u001b[0m",
      "\u001b[0;31mTypeError\u001b[0m                                 Traceback (most recent call last)",
      "\u001b[0;32m<ipython-input-93-4c70ee881dd6>\u001b[0m in \u001b[0;36m<module>\u001b[0;34m()\u001b[0m\n\u001b[1;32m      1\u001b[0m \u001b[0marr\u001b[0m \u001b[0;34m=\u001b[0m \u001b[0;34m[\u001b[0m\u001b[0;36m7\u001b[0m\u001b[0;34m,\u001b[0m\u001b[0;36m10\u001b[0m\u001b[0;34m,\u001b[0m\u001b[0;36m12\u001b[0m\u001b[0;34m,\u001b[0m\u001b[0;36m19\u001b[0m\u001b[0;34m,\u001b[0m\u001b[0;36m30\u001b[0m\u001b[0;34m,\u001b[0m\u001b[0;36m20\u001b[0m\u001b[0;34m,\u001b[0m\u001b[0;36m11\u001b[0m\u001b[0;34m]\u001b[0m\u001b[0;34m\u001b[0m\u001b[0m\n\u001b[0;32m----> 2\u001b[0;31m \u001b[0mSolution\u001b[0m\u001b[0;34m.\u001b[0m\u001b[0mheap_sort\u001b[0m\u001b[0;34m(\u001b[0m\u001b[0marr\u001b[0m\u001b[0;34m)\u001b[0m\u001b[0;34m\u001b[0m\u001b[0m\n\u001b[0m\u001b[1;32m      3\u001b[0m \u001b[0marr\u001b[0m\u001b[0;34m\u001b[0m\u001b[0m\n",
      "\u001b[0;31mTypeError\u001b[0m: heap_sort() missing 1 required positional argument: 'arr'"
     ]
    }
   ],
   "source": [
    "arr = [7,10,12,19,30,20,11]\n",
    "Solution.heap_sort(arr)\n",
    "arr"
   ]
  },
  {
   "cell_type": "markdown",
   "metadata": {},
   "source": [
    "此處發現呼叫的寫法也有錯，正確寫法還要在Solution后面加()；並且發現輸出的答案已經接近了想要的結果。這裡請教同學之後發現，Solution().heapbuild(arr)的結果不會繼續讓下面的使用，也就是最後輸出的arr還是Solution().heapbuild(arr)的arr。這裡真的花了超級久的時間解決TOT。。。"
   ]
  },
  {
   "cell_type": "code",
   "execution_count": 94,
   "metadata": {},
   "outputs": [],
   "source": [
    "class Solution():\n",
    "    def maxheapify(self,arr,n,m):\n",
    "        \"\"\"\n",
    "        維護max heap(因為最大值和最後一個值交換位置後會破壞原來的max heap結構)\n",
    "        \"\"\"\n",
    "        left_child = 2*n+1          #左邊child的index\n",
    "        right_child = 2*n+2                                  #右邊child的index,right_child = 2*n+2  \n",
    "        max_node = n              #假設當前的max_node為parent\n",
    "        \n",
    "        if left_child<m and arr[left_child]>arr[max_node]:\n",
    "            max_node = left_child\n",
    "        if right_child<m and arr[right_child]>arr[max_node]:\n",
    "            max_node = right_child\n",
    "                \n",
    "        \n",
    "        if max_node != n:             #如果max_node的index已經發生改變，則交換vaule的位置\n",
    "            arr[n], arr[max_node] = arr[max_node],arr[n]\n",
    "            Solution().maxheapify(arr,max_node,m)    #再對新的subtree進行檢查，看是否符合max heap的性質，直到找到最大值為止\n",
    "        \n",
    "    def heapbuild(self,arr):\n",
    "        \"\"\"\n",
    "        構建max heap\n",
    "        \"\"\"\n",
    "        m=len(arr)\n",
    "        i = int(len(arr) / 2 - 1)             #非葉子節點的index。假設list有8個node，則非葉子節點的index為0，1，2，3\n",
    "        while i >= 0:                  #從最後一個非葉子節點開始\n",
    "            Solution().maxheapify(arr,i,m)\n",
    "            i -= 1\n",
    "        Solution().maxheapify(arr,0,m)\n",
    "        return arr\n",
    "    \n",
    "    def heap_sort(self,arr):\n",
    "        self.arr=arr\n",
    "        Solution().heapbuild(arr)\n",
    "        print(arr)\n",
    "        m = len(arr)\n",
    "        while m >= 0:\n",
    "            arr[0],arr[len(arr)-1] = arr[len(arr)-1],arr[0]\n",
    "            m= m-1\n",
    "            Solution().maxheapify(arr,0,m)"
   ]
  },
  {
   "cell_type": "code",
   "execution_count": 95,
   "metadata": {},
   "outputs": [
    {
     "name": "stdout",
     "output_type": "stream",
     "text": [
      "[30, 19, 20, 7, 10, 12, 11]\n"
     ]
    }
   ],
   "source": [
    "arr = [7,10,12,19,30,20,11]\n",
    "Solution().heap_sort(arr)"
   ]
  },
  {
   "cell_type": "markdown",
   "metadata": {},
   "source": [
    "最後賦值給a，解決問題。"
   ]
  },
  {
   "cell_type": "code",
   "execution_count": 96,
   "metadata": {},
   "outputs": [],
   "source": [
    "class Solution():\n",
    "    def maxheapify(self,arr,n,m):\n",
    "        \"\"\"\n",
    "        維護max heap(因為最大值和最後一個值交換位置後會破壞原來的max heap結構)\n",
    "        \"\"\"\n",
    "        left_child = 2*n+1          #左邊child的index\n",
    "        right_child = 2*n+2                                  #右邊child的index,right_child = 2*n+2  \n",
    "        max_node = n              #假設當前的max_node為parent\n",
    "        \n",
    "        if left_child<m and arr[left_child]>arr[max_node]:\n",
    "            max_node = left_child\n",
    "        if right_child<m and arr[right_child]>arr[max_node]:\n",
    "            max_node = right_child\n",
    "                \n",
    "        \n",
    "        if max_node != n:             #如果max_node的index已經發生改變，則交換vaule的位置\n",
    "            arr[n], arr[max_node] = arr[max_node],arr[n]\n",
    "            Solution().maxheapify(arr,max_node,m)    #再對新的subtree進行檢查，看是否符合max heap的性質，直到找到最大值為止\n",
    "        return arr\n",
    "        \n",
    "    def heapbuild(self,arr):\n",
    "        \"\"\"\n",
    "        構建max heap\n",
    "        \"\"\"\n",
    "        m=len(arr)\n",
    "        i = int(len(arr) / 2 - 1)             #非葉子節點的index。假設list有8個node，則非葉子節點的index為0，1，2，3\n",
    "        while i >= 0:                  #從最後一個非葉子節點開始\n",
    "            Solution().maxheapify(arr,i,m)\n",
    "            i -= 1\n",
    "        Solution().maxheapify(arr,0,m)\n",
    "        return arr\n",
    "    \n",
    "        \n",
    "    def heap_sort(self,arr):\n",
    "        a = Solution().heapbuild(arr)\n",
    "        m = len(a)\n",
    "        while m >= 2:\n",
    "            arr[0],arr[m-1] = arr[m-1],arr[0]\n",
    "            m= m-1\n",
    "            Solution().maxheapify(a,0,m)\n",
    "        return arr\n",
    "        "
   ]
  },
  {
   "cell_type": "code",
   "execution_count": 97,
   "metadata": {},
   "outputs": [
    {
     "data": {
      "text/plain": [
       "[7, 10, 11, 12, 19, 20, 30]"
      ]
     },
     "execution_count": 97,
     "metadata": {},
     "output_type": "execute_result"
    }
   ],
   "source": [
    "arr = [7,10,12,19,30,20,11]\n",
    "Solution().heap_sort(arr)"
   ]
  },
  {
   "cell_type": "code",
   "execution_count": null,
   "metadata": {},
   "outputs": [],
   "source": []
  }
 ],
 "metadata": {
  "kernelspec": {
   "display_name": "Python 3",
   "language": "python",
   "name": "python3"
  },
  "language_info": {
   "codemirror_mode": {
    "name": "ipython",
    "version": 3
   },
   "file_extension": ".py",
   "mimetype": "text/x-python",
   "name": "python",
   "nbconvert_exporter": "python",
   "pygments_lexer": "ipython3",
   "version": "3.7.0"
  }
 },
 "nbformat": 4,
 "nbformat_minor": 2
}
