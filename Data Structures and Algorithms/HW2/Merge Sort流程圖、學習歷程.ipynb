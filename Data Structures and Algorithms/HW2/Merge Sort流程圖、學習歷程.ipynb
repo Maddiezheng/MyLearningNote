{
 "cells": [
  {
   "cell_type": "markdown",
   "metadata": {},
   "source": [
    "方法：\n",
    "\n",
    "divide：不斷的把array從中點分成兩半，一直分一直分一直分一直分一直分直到不能再分\n",
    "\n",
    "merge：兩兩array比較值的大小，小的在前大的在後，然後一直合一直合一直合一直合一直合直到不能再合"
   ]
  },
  {
   "cell_type": "markdown",
   "metadata": {},
   "source": [
    "一開始想設定一個空的array，然後使用append的方式把比較大小後的值append進array裡面，但是這樣子就會佔用到外部空間。於是我想到如果直接把比較大小後的值強行更換到原來的array相對應的index裡，這樣就直接使用了原本array的空間。"
   ]
  },
  {
   "cell_type": "markdown",
   "metadata": {},
   "source": [
    "參考資料：\n",
    "\n",
    "\n",
    "https://blog.csdn.net/xcq007/article/details/82114657\n",
    "\n",
    "https://medium.com/appworks-school/初學者學演算法-排序法進階-合併排序法-6252651c6f7e\n",
    "\n",
    "https://blog.csdn.net/ying_ying_123/article/details/88010540"
   ]
  },
  {
   "cell_type": "markdown",
   "metadata": {},
   "source": [
    "流程圖：\n",
    "![jupyter](mergesort流程圖.png)"
   ]
  },
  {
   "cell_type": "markdown",
   "metadata": {},
   "source": [
    "第一次跑的時候發現if j == None和if I == None的邏輯有點錯誤"
   ]
  },
  {
   "cell_type": "code",
   "execution_count": 7,
   "metadata": {},
   "outputs": [
    {
     "ename": "SyntaxError",
     "evalue": "unexpected EOF while parsing (<ipython-input-7-36af70fe0147>, line 25)",
     "output_type": "error",
     "traceback": [
      "\u001b[0;36m  File \u001b[0;32m\"<ipython-input-7-36af70fe0147>\"\u001b[0;36m, line \u001b[0;32m25\u001b[0m\n\u001b[0;31m    arr[m] = right_arr[j\u001b[0m\n\u001b[0m                        ^\u001b[0m\n\u001b[0;31mSyntaxError\u001b[0m\u001b[0;31m:\u001b[0m unexpected EOF while parsing\n"
     ]
    }
   ],
   "source": [
    "class Solution():\n",
    "    def merge_sort(self,arr):\n",
    "        mid = len(arr)//2  #這裡的//是省略小數，方便取中點\n",
    "        left_arr = arr[0:mid]    #左半邊的array\n",
    "        right_arr = arr[mid:]    #右半邊的array\n",
    "        Solution().merge_sort(left_arr)      #重複呼叫merge_sort，直到不能再分為止\n",
    "        Solution().merge_sort(right_arr)\n",
    "        \n",
    "        i = 0  #left array的index\n",
    "        j = 0  #right array的index\n",
    "        m = 0 #array的index\n",
    "        while i < len(left_arr) and j < len(right_arr):    #當左右兩個array的index在正確範圍的時候\n",
    "            if left_arr[i] < right_arr[j]: #比較左右array的指定index大小(從頭開始比較)\n",
    "                arr[m] = left_arr[i] #若左邊array的值比右邊array大，則把比較後的值更換到最初始array的對應index的值\n",
    "                i += 1                  #index加一，進行下一個值的比較\n",
    "                m += 1                #index加一，記錄下一個即將被更換的位置。\n",
    "            else:\n",
    "                arr[m] = right_arr[j]\n",
    "                j += 1\n",
    "                m += 1\n",
    "        if j == None:            #此處要考慮當j或i跑到index外面的時候，剩下一邊的array(左或右)的最後一個值直接更換到原array的最後一個位置裡\n",
    "            arr[m] = left_arr[i]\n",
    "        \n",
    "        if I == None:\n",
    "            arr[m] = right_arr[j"
   ]
  },
  {
   "cell_type": "markdown",
   "metadata": {},
   "source": [
    "第二次在if裡增加了while迴圈，如果j的index跑出了範圍，此時左邊的array的值可以直接放到原array裡對應的index裡"
   ]
  },
  {
   "cell_type": "code",
   "execution_count": 8,
   "metadata": {},
   "outputs": [],
   "source": [
    "class Solution():\n",
    "    def merge_sort(self,arr):\n",
    "        mid = len(arr)//2  #這裡的//是省略小數，方便取中點\n",
    "        left_arr = arr[0:mid]    #左半邊的array\n",
    "        right_arr = arr[mid:]    #右半邊的array\n",
    "        Solution().merge_sort(left_arr)      #重複呼叫merge_sort，直到array不能再分為止\n",
    "        Solution().merge_sort(right_arr)\n",
    "        \n",
    "        i = 0  #left array的index\n",
    "        j = 0  #right array的index\n",
    "        m = 0 #array的index\n",
    "        while i < len(left_arr) and j < len(right_arr):    #當左右兩個array的index在正確範圍的時候\n",
    "            if left_arr[i] < right_arr[j]: #比較左右array的指定index大小(從頭開始比較)\n",
    "                arr[m] = left_arr[i] #若左邊array的值比右邊array大，則把比較後的值更換到最初始array的對應index的值\n",
    "                i += 1                  #index加一，進行下一個值的比較\n",
    "                m += 1                #index加一，記錄下一個即將被更換的位置。\n",
    "            else:\n",
    "                arr[m] = right_arr[j]\n",
    "                j += 1\n",
    "                m += 1\n",
    "                \n",
    "        \n",
    "        if j == None:            #此處要考慮當j或i跑到index外面的時候，剩下一邊的array(左或右)的最後一個值直接更換到原array的最後一個位置裡\n",
    "            while i < len(left_arr):\n",
    "                arr[m] = left_arr[i]\n",
    "                i +=1\n",
    "                m +=1\n",
    "            \n",
    "        if i == None:\n",
    "            while j <len(right_arr):\n",
    "                arr[m] = right_arr[j]\n",
    "                j += 1\n",
    "                m += 1\n",
    "        \n",
    "        \n",
    "        "
   ]
  },
  {
   "cell_type": "code",
   "execution_count": 9,
   "metadata": {},
   "outputs": [
    {
     "ename": "RecursionError",
     "evalue": "maximum recursion depth exceeded while calling a Python object",
     "output_type": "error",
     "traceback": [
      "\u001b[0;31m---------------------------------------------------------------------------\u001b[0m",
      "\u001b[0;31mRecursionError\u001b[0m                            Traceback (most recent call last)",
      "\u001b[0;32m<ipython-input-9-90ace2e58113>\u001b[0m in \u001b[0;36m<module>\u001b[0;34m()\u001b[0m\n\u001b[1;32m      1\u001b[0m \u001b[0marr\u001b[0m\u001b[0;34m=\u001b[0m\u001b[0;34m[\u001b[0m\u001b[0;36m10\u001b[0m\u001b[0;34m,\u001b[0m\u001b[0;36m3\u001b[0m\u001b[0;34m,\u001b[0m\u001b[0;36m6\u001b[0m\u001b[0;34m,\u001b[0m\u001b[0;36m5\u001b[0m\u001b[0;34m,\u001b[0m\u001b[0;36m14\u001b[0m\u001b[0;34m,\u001b[0m\u001b[0;36m8\u001b[0m\u001b[0;34m]\u001b[0m\u001b[0;34m\u001b[0m\u001b[0m\n\u001b[0;32m----> 2\u001b[0;31m \u001b[0mSolution\u001b[0m\u001b[0;34m(\u001b[0m\u001b[0;34m)\u001b[0m\u001b[0;34m.\u001b[0m\u001b[0mmerge_sort\u001b[0m\u001b[0;34m(\u001b[0m\u001b[0marr\u001b[0m\u001b[0;34m)\u001b[0m\u001b[0;34m\u001b[0m\u001b[0m\n\u001b[0m",
      "\u001b[0;32m<ipython-input-8-b752ad74a234>\u001b[0m in \u001b[0;36mmerge_sort\u001b[0;34m(self, arr)\u001b[0m\n\u001b[1;32m      4\u001b[0m         \u001b[0mleft_arr\u001b[0m \u001b[0;34m=\u001b[0m \u001b[0marr\u001b[0m\u001b[0;34m[\u001b[0m\u001b[0;36m0\u001b[0m\u001b[0;34m:\u001b[0m\u001b[0mmid\u001b[0m\u001b[0;34m]\u001b[0m    \u001b[0;31m#左半邊的array\u001b[0m\u001b[0;34m\u001b[0m\u001b[0m\n\u001b[1;32m      5\u001b[0m         \u001b[0mright_arr\u001b[0m \u001b[0;34m=\u001b[0m \u001b[0marr\u001b[0m\u001b[0;34m[\u001b[0m\u001b[0mmid\u001b[0m\u001b[0;34m:\u001b[0m\u001b[0;34m]\u001b[0m    \u001b[0;31m#右半邊的array\u001b[0m\u001b[0;34m\u001b[0m\u001b[0m\n\u001b[0;32m----> 6\u001b[0;31m         \u001b[0mSolution\u001b[0m\u001b[0;34m(\u001b[0m\u001b[0;34m)\u001b[0m\u001b[0;34m.\u001b[0m\u001b[0mmerge_sort\u001b[0m\u001b[0;34m(\u001b[0m\u001b[0mleft_arr\u001b[0m\u001b[0;34m)\u001b[0m      \u001b[0;31m#重複呼叫merge_sort，直到不能再分為止\u001b[0m\u001b[0;34m\u001b[0m\u001b[0m\n\u001b[0m\u001b[1;32m      7\u001b[0m         \u001b[0mSolution\u001b[0m\u001b[0;34m(\u001b[0m\u001b[0;34m)\u001b[0m\u001b[0;34m.\u001b[0m\u001b[0mmerge_sort\u001b[0m\u001b[0;34m(\u001b[0m\u001b[0mright_arr\u001b[0m\u001b[0;34m)\u001b[0m\u001b[0;34m\u001b[0m\u001b[0m\n\u001b[1;32m      8\u001b[0m \u001b[0;34m\u001b[0m\u001b[0m\n",
      "... last 1 frames repeated, from the frame below ...\n",
      "\u001b[0;32m<ipython-input-8-b752ad74a234>\u001b[0m in \u001b[0;36mmerge_sort\u001b[0;34m(self, arr)\u001b[0m\n\u001b[1;32m      4\u001b[0m         \u001b[0mleft_arr\u001b[0m \u001b[0;34m=\u001b[0m \u001b[0marr\u001b[0m\u001b[0;34m[\u001b[0m\u001b[0;36m0\u001b[0m\u001b[0;34m:\u001b[0m\u001b[0mmid\u001b[0m\u001b[0;34m]\u001b[0m    \u001b[0;31m#左半邊的array\u001b[0m\u001b[0;34m\u001b[0m\u001b[0m\n\u001b[1;32m      5\u001b[0m         \u001b[0mright_arr\u001b[0m \u001b[0;34m=\u001b[0m \u001b[0marr\u001b[0m\u001b[0;34m[\u001b[0m\u001b[0mmid\u001b[0m\u001b[0;34m:\u001b[0m\u001b[0;34m]\u001b[0m    \u001b[0;31m#右半邊的array\u001b[0m\u001b[0;34m\u001b[0m\u001b[0m\n\u001b[0;32m----> 6\u001b[0;31m         \u001b[0mSolution\u001b[0m\u001b[0;34m(\u001b[0m\u001b[0;34m)\u001b[0m\u001b[0;34m.\u001b[0m\u001b[0mmerge_sort\u001b[0m\u001b[0;34m(\u001b[0m\u001b[0mleft_arr\u001b[0m\u001b[0;34m)\u001b[0m      \u001b[0;31m#重複呼叫merge_sort，直到不能再分為止\u001b[0m\u001b[0;34m\u001b[0m\u001b[0m\n\u001b[0m\u001b[1;32m      7\u001b[0m         \u001b[0mSolution\u001b[0m\u001b[0;34m(\u001b[0m\u001b[0;34m)\u001b[0m\u001b[0;34m.\u001b[0m\u001b[0mmerge_sort\u001b[0m\u001b[0;34m(\u001b[0m\u001b[0mright_arr\u001b[0m\u001b[0;34m)\u001b[0m\u001b[0;34m\u001b[0m\u001b[0m\n\u001b[1;32m      8\u001b[0m \u001b[0;34m\u001b[0m\u001b[0m\n",
      "\u001b[0;31mRecursionError\u001b[0m: maximum recursion depth exceeded while calling a Python object"
     ]
    }
   ],
   "source": [
    "arr=[10,3,6,5,14,8]\n",
    "Solution().merge_sort(arr)"
   ]
  },
  {
   "cell_type": "markdown",
   "metadata": {},
   "source": [
    "發現自己忘記考慮如果長度不滿足大於一時的狀況。\n",
    "並且更改完運行的時候，測試的cell一直在跑，結果一直跑不出來。感覺起來是迴圈的問題，而且code怪怪的，可能要增加別的function"
   ]
  },
  {
   "cell_type": "code",
   "execution_count": null,
   "metadata": {},
   "outputs": [],
   "source": [
    "class Solution():\n",
    "    def merge_sort(self,arr):\n",
    "         if len(arr) ==1:\n",
    "            return arr\n",
    "        \n",
    "         while len(arr) >1:\n",
    "            mid = len(arr)//2  #這裡的//是省略小數，方便取中點\n",
    "            left_arr = arr[0:mid]    #左半邊的array\n",
    "            right_arr = arr[mid:]    #右半邊的array\n",
    "            Solution().merge_sort(left_arr)      #重複呼叫merge_sort，直到array不能再分為止\n",
    "            Solution().merge_sort(right_arr)\n",
    "            \n",
    "            i = 0  #left array的index\n",
    "            j = 0  #right array的index\n",
    "            m = 0 #array的index\n",
    "            while i < len(left_arr) and j < len(right_arr):    #當左右兩個array的index在正確範圍的時候\n",
    "                if left_arr[i] < right_arr[j]: #比較左右array的指定index大小(從頭開始比較)\n",
    "                    arr[m] = left_arr[i] #若左邊array的值比右邊array大，則把比較後的值更換到最初始array的對應index的值\n",
    "                    i += 1                  #index加一，進行下一個值的比較\n",
    "                    m += 1                #index加一，記錄下一個即將被更換的位置。\n",
    "                else:\n",
    "                    arr[m] = right_arr[j]\n",
    "                    j += 1\n",
    "                    m += 1\n",
    "            \n",
    "            if j == None:            #此處要考慮當j或i跑到index外面的時候，剩下一邊的array(左或右)的最後一個值直接更換到原array的最後一個位置裡\n",
    "                while i < len(left_arr):\n",
    "                    arr[m] = left_arr[i]\n",
    "                    i +=1\n",
    "                    m +=1\n",
    "            \n",
    "            if i == None:\n",
    "                while j <len(right_arr):\n",
    "                    arr[m] = right_arr[j]\n",
    "                    j += 1\n",
    "                    m += 1"
   ]
  },
  {
   "cell_type": "code",
   "execution_count": 16,
   "metadata": {},
   "outputs": [
    {
     "ename": "KeyboardInterrupt",
     "evalue": "",
     "output_type": "error",
     "traceback": [
      "\u001b[0;31m---------------------------------------------------------------------------\u001b[0m",
      "\u001b[0;31mKeyboardInterrupt\u001b[0m                         Traceback (most recent call last)",
      "\u001b[0;32m<ipython-input-16-90ace2e58113>\u001b[0m in \u001b[0;36m<module>\u001b[0;34m()\u001b[0m\n\u001b[1;32m      1\u001b[0m \u001b[0marr\u001b[0m\u001b[0;34m=\u001b[0m\u001b[0;34m[\u001b[0m\u001b[0;36m10\u001b[0m\u001b[0;34m,\u001b[0m\u001b[0;36m3\u001b[0m\u001b[0;34m,\u001b[0m\u001b[0;36m6\u001b[0m\u001b[0;34m,\u001b[0m\u001b[0;36m5\u001b[0m\u001b[0;34m,\u001b[0m\u001b[0;36m14\u001b[0m\u001b[0;34m,\u001b[0m\u001b[0;36m8\u001b[0m\u001b[0;34m]\u001b[0m\u001b[0;34m\u001b[0m\u001b[0m\n\u001b[0;32m----> 2\u001b[0;31m \u001b[0mSolution\u001b[0m\u001b[0;34m(\u001b[0m\u001b[0;34m)\u001b[0m\u001b[0;34m.\u001b[0m\u001b[0mmerge_sort\u001b[0m\u001b[0;34m(\u001b[0m\u001b[0marr\u001b[0m\u001b[0;34m)\u001b[0m\u001b[0;34m\u001b[0m\u001b[0m\n\u001b[0m",
      "\u001b[0;32m<ipython-input-15-6e3e8c4fe4b3>\u001b[0m in \u001b[0;36mmerge_sort\u001b[0;34m(self, arr)\u001b[0m\n\u001b[1;32m      8\u001b[0m             \u001b[0mleft_arr\u001b[0m \u001b[0;34m=\u001b[0m \u001b[0marr\u001b[0m\u001b[0;34m[\u001b[0m\u001b[0;36m0\u001b[0m\u001b[0;34m:\u001b[0m\u001b[0mmid\u001b[0m\u001b[0;34m]\u001b[0m    \u001b[0;31m#左半邊的array\u001b[0m\u001b[0;34m\u001b[0m\u001b[0m\n\u001b[1;32m      9\u001b[0m             \u001b[0mright_arr\u001b[0m \u001b[0;34m=\u001b[0m \u001b[0marr\u001b[0m\u001b[0;34m[\u001b[0m\u001b[0mmid\u001b[0m\u001b[0;34m:\u001b[0m\u001b[0;34m]\u001b[0m    \u001b[0;31m#右半邊的array\u001b[0m\u001b[0;34m\u001b[0m\u001b[0m\n\u001b[0;32m---> 10\u001b[0;31m             \u001b[0mSolution\u001b[0m\u001b[0;34m(\u001b[0m\u001b[0;34m)\u001b[0m\u001b[0;34m.\u001b[0m\u001b[0mmerge_sort\u001b[0m\u001b[0;34m(\u001b[0m\u001b[0mleft_arr\u001b[0m\u001b[0;34m)\u001b[0m      \u001b[0;31m#重複呼叫merge_sort，直到array不能再分為止\u001b[0m\u001b[0;34m\u001b[0m\u001b[0m\n\u001b[0m\u001b[1;32m     11\u001b[0m             \u001b[0mSolution\u001b[0m\u001b[0;34m(\u001b[0m\u001b[0;34m)\u001b[0m\u001b[0;34m.\u001b[0m\u001b[0mmerge_sort\u001b[0m\u001b[0;34m(\u001b[0m\u001b[0mright_arr\u001b[0m\u001b[0;34m)\u001b[0m\u001b[0;34m\u001b[0m\u001b[0m\n\u001b[1;32m     12\u001b[0m \u001b[0;34m\u001b[0m\u001b[0m\n",
      "\u001b[0;32m<ipython-input-15-6e3e8c4fe4b3>\u001b[0m in \u001b[0;36mmerge_sort\u001b[0;34m(self, arr)\u001b[0m\n\u001b[1;32m      9\u001b[0m             \u001b[0mright_arr\u001b[0m \u001b[0;34m=\u001b[0m \u001b[0marr\u001b[0m\u001b[0;34m[\u001b[0m\u001b[0mmid\u001b[0m\u001b[0;34m:\u001b[0m\u001b[0;34m]\u001b[0m    \u001b[0;31m#右半邊的array\u001b[0m\u001b[0;34m\u001b[0m\u001b[0m\n\u001b[1;32m     10\u001b[0m             \u001b[0mSolution\u001b[0m\u001b[0;34m(\u001b[0m\u001b[0;34m)\u001b[0m\u001b[0;34m.\u001b[0m\u001b[0mmerge_sort\u001b[0m\u001b[0;34m(\u001b[0m\u001b[0mleft_arr\u001b[0m\u001b[0;34m)\u001b[0m      \u001b[0;31m#重複呼叫merge_sort，直到array不能再分為止\u001b[0m\u001b[0;34m\u001b[0m\u001b[0m\n\u001b[0;32m---> 11\u001b[0;31m             \u001b[0mSolution\u001b[0m\u001b[0;34m(\u001b[0m\u001b[0;34m)\u001b[0m\u001b[0;34m.\u001b[0m\u001b[0mmerge_sort\u001b[0m\u001b[0;34m(\u001b[0m\u001b[0mright_arr\u001b[0m\u001b[0;34m)\u001b[0m\u001b[0;34m\u001b[0m\u001b[0m\n\u001b[0m\u001b[1;32m     12\u001b[0m \u001b[0;34m\u001b[0m\u001b[0m\n\u001b[1;32m     13\u001b[0m             \u001b[0mi\u001b[0m \u001b[0;34m=\u001b[0m \u001b[0;36m0\u001b[0m  \u001b[0;31m#left array的index\u001b[0m\u001b[0;34m\u001b[0m\u001b[0m\n",
      "\u001b[0;32m<ipython-input-15-6e3e8c4fe4b3>\u001b[0m in \u001b[0;36mmerge_sort\u001b[0;34m(self, arr)\u001b[0m\n\u001b[1;32m      9\u001b[0m             \u001b[0mright_arr\u001b[0m \u001b[0;34m=\u001b[0m \u001b[0marr\u001b[0m\u001b[0;34m[\u001b[0m\u001b[0mmid\u001b[0m\u001b[0;34m:\u001b[0m\u001b[0;34m]\u001b[0m    \u001b[0;31m#右半邊的array\u001b[0m\u001b[0;34m\u001b[0m\u001b[0m\n\u001b[1;32m     10\u001b[0m             \u001b[0mSolution\u001b[0m\u001b[0;34m(\u001b[0m\u001b[0;34m)\u001b[0m\u001b[0;34m.\u001b[0m\u001b[0mmerge_sort\u001b[0m\u001b[0;34m(\u001b[0m\u001b[0mleft_arr\u001b[0m\u001b[0;34m)\u001b[0m      \u001b[0;31m#重複呼叫merge_sort，直到array不能再分為止\u001b[0m\u001b[0;34m\u001b[0m\u001b[0m\n\u001b[0;32m---> 11\u001b[0;31m             \u001b[0mSolution\u001b[0m\u001b[0;34m(\u001b[0m\u001b[0;34m)\u001b[0m\u001b[0;34m.\u001b[0m\u001b[0mmerge_sort\u001b[0m\u001b[0;34m(\u001b[0m\u001b[0mright_arr\u001b[0m\u001b[0;34m)\u001b[0m\u001b[0;34m\u001b[0m\u001b[0m\n\u001b[0m\u001b[1;32m     12\u001b[0m \u001b[0;34m\u001b[0m\u001b[0m\n\u001b[1;32m     13\u001b[0m             \u001b[0mi\u001b[0m \u001b[0;34m=\u001b[0m \u001b[0;36m0\u001b[0m  \u001b[0;31m#left array的index\u001b[0m\u001b[0;34m\u001b[0m\u001b[0m\n",
      "\u001b[0;31mKeyboardInterrupt\u001b[0m: "
     ]
    }
   ],
   "source": [
    "arr=[10,3,6,5,14,8]\n",
    "Solution().merge_sort(arr)"
   ]
  },
  {
   "cell_type": "markdown",
   "metadata": {},
   "source": [
    "到這裡我重新思考了mergesort的邏輯。主要需要一個把array進行divide的function，divide到不能再分為止；另外需要一個把被divide的array再繼續重新合併，並且是邊比大小邊合併，直到合併成一個array。###然後這裡發現if j == None那邊的邏輯還是有誤，如果都比較完了，"
   ]
  },
  {
   "cell_type": "code",
   "execution_count": 17,
   "metadata": {},
   "outputs": [],
   "source": [
    "class Solution():\n",
    "    def merge(self,arr,front,mid,end):\n",
    "            i = 0  #left array的index\n",
    "            j = 0  #right array的index\n",
    "            m = 0 #array的index\n",
    "            while i < len(left_arr) and j < len(right_arr):    #當左右兩個array的index在正確範圍的時候\n",
    "                if left_arr[i] < right_arr[j]: #比較左右array的指定index大小(從頭開始比較)\n",
    "                    arr[m] = left_arr[i] #若左邊array的值比右邊array大，則把比較後的值更換到最初始array的對應index的值\n",
    "                    i += 1                  #index加一，進行下一個值的比較\n",
    "                    m += 1                #index加一，記錄下一個即將被更換的位置。\n",
    "                else:\n",
    "                    arr[m] = right_arr[j]\n",
    "                    j += 1\n",
    "                    m += 1\n",
    "            \n",
    "            if j == None:            #此處要考慮當j或i跑到index外面的時候，剩下一邊的array(左或右)的最後一個值直接更換到原array的最後一個位置裡\n",
    "                while i < len(left_arr):\n",
    "                    arr[m] = left_arr[i]\n",
    "                    i +=1\n",
    "                    m +=1\n",
    "            \n",
    "            if i == None:\n",
    "                while j <len(right_arr):\n",
    "                    arr[m] = right_arr[j]\n",
    "                    j += 1\n",
    "                    m += 1\n",
    "        \n",
    "        \n",
    "    def merge_sort(self,arr,front,end):\n",
    "         if len(arr) ==1:\n",
    "            return arr\n",
    "        \n",
    "         while len(arr) >1:\n",
    "            mid = len(arr)//2  #這裡的//是省略小數，方便取中點\n",
    "            left_arr = arr[0:mid]    #左半邊的array\n",
    "            right_arr = arr[mid:]    #右半邊的array\n",
    "            Solution().merge_sort(left_arr)      #重複呼叫merge_sort，直到array不能再分為止\n",
    "            Solution().merge_sort(right_arr)\n",
    "            \n",
    "          "
   ]
  },
  {
   "cell_type": "markdown",
   "metadata": {},
   "source": [
    "如果右邊array的idex初始設定為0，似乎十分不方便。直接用原array的index來表示或許更好些；並且mid如果用len(arr)-2表示的話，如果array被divide，這裡的arr依舊調用的測試input進去的array而不是被divide的array(之前寫heapsort的血淚教訓，還需要另外設定變數才可)。所以如果是用頭跟尾的index來記錄或許更方便些。"
   ]
  },
  {
   "cell_type": "code",
   "execution_count": null,
   "metadata": {},
   "outputs": [],
   "source": [
    "class Solution():\n",
    "    def merge(self,arr,front,mid,end):\n",
    "            i = 0  #left array的index\n",
    "            j = mid + 1  #right array的index\n",
    "            m = 0 #array的index\n",
    "            while i < len(left_arr) and j < len(right_arr):    #當左右兩個array的index在正確範圍的時候\n",
    "                if left_arr[i] < right_arr[j]: #比較左右array的指定index大小(從頭開始比較)\n",
    "                    arr[m] = left_arr[i] #若左邊array的值比右邊array大，則把比較後的值更換到最初始array的對應index的值\n",
    "                    i += 1                  #index加一，進行下一個值的比較\n",
    "                    m += 1                #index加一，記錄下一個即將被更換的位置。\n",
    "                else:\n",
    "                    arr[m] = right_arr[j]\n",
    "                    j += 1\n",
    "                    m += 1\n",
    "            \n",
    "            if j == None:            #此處要考慮當j或i跑到index外面的時候，剩下一邊的array(左或右)的最後一個值直接更換到原array的最後一個位置裡\n",
    "                while i < len(left_arr):\n",
    "                    arr[m] = left_arr[i]\n",
    "                    i +=1\n",
    "                    m +=1\n",
    "            \n",
    "            if i == None:\n",
    "                while j <len(right_arr):\n",
    "                    arr[m] = right_arr[j]\n",
    "                    j += 1\n",
    "                    m += 1\n",
    "        \n",
    "        \n",
    "    def merge_sort(self,arr,front,end):\n",
    "         if len(arr) ==1:\n",
    "            return arr\n",
    "        \n",
    "         while len(arr) >1:\n",
    "            mid = front+end//2  #這裡的//是省略小數，方便取中點\n",
    "            left_arr = arr[0:mid]    #左半邊的array，不包括mid\n",
    "            right_arr = arr[mid:]    #右半邊的array，包括mid\n",
    "            Solution().merge_sort(left_arr)      #重複呼叫merge_sort，直到array不能再分為止\n",
    "            Solution().merge_sort(right_arr)\n",
    "            \n",
    "          "
   ]
  },
  {
   "cell_type": "markdown",
   "metadata": {},
   "source": [
    "寫來寫去感覺還是設定空array的做法比較容易TAT......不然還要設定left_arr和right_arr，寫到這裡又想了好久要怎麼優化程式碼。這邊不想用append，所以我用了比較笨的方法，先把原array的值複製到設定好的空array裡面，然後再比大小把比較後的值替換到設定的array裡面，這樣能保證設定的array和測試的array的長度相同。"
   ]
  },
  {
   "cell_type": "code",
   "execution_count": 20,
   "metadata": {},
   "outputs": [],
   "source": [
    "class Solution():\n",
    "    def MergeSingle(self,arr,front,mid,end):\n",
    "            i = front      #left array的index\n",
    "            j = mid + 1  #right array的index\n",
    "            \n",
    "            m = front #array的index\n",
    "            while m <= end:     #這裡是把array的值複製到空array的裡面\n",
    "                a[m] = arr[m]     \n",
    "                m+=1\n",
    "            \n",
    "            while i<mid and j<end:\n",
    "                if a[i]<a[j]:\n",
    "                    arr[m] = a[i]\n",
    "                    i+=1\n",
    "                    m+=1\n",
    "                    \n",
    "                else:\n",
    "                    arr[m] = a[j]\n",
    "                    j+=1\n",
    "                    m+=1\n",
    "                \n",
    "            if j == None:            \n",
    "                while i < mid:\n",
    "                    arr[m] = a[i]\n",
    "                    i +=1\n",
    "                    m +=1\n",
    "            \n",
    "            if i == None:\n",
    "                while j <end:\n",
    "                    arr[m] = a[j]\n",
    "                    j += 1\n",
    "                    m += 1\n",
    "            \n",
    "        \n",
    "        \n",
    "    def merge_sort(self,arr,front,end):\n",
    "         if len(arr) ==1:\n",
    "            return arr\n",
    "        \n",
    "         while len(arr) >1:\n",
    "            mid = front+end//2  #這裡的//是省略小數，方便取中點\n",
    "            Solution().merge_sort(arr,front,mid)    #遞迴左半邊的array\n",
    "            Solution().merge_sort(arr,mid+1,end)    #遞迴右半邊的array\n",
    "            Solution().MergeSingle(arr,front,mid,end)      #單趟merge\n",
    "            \n",
    "          "
   ]
  },
  {
   "cell_type": "code",
   "execution_count": 21,
   "metadata": {},
   "outputs": [
    {
     "ename": "TypeError",
     "evalue": "merge_sort() missing 2 required positional arguments: 'front' and 'end'",
     "output_type": "error",
     "traceback": [
      "\u001b[0;31m---------------------------------------------------------------------------\u001b[0m",
      "\u001b[0;31mTypeError\u001b[0m                                 Traceback (most recent call last)",
      "\u001b[0;32m<ipython-input-21-90ace2e58113>\u001b[0m in \u001b[0;36m<module>\u001b[0;34m()\u001b[0m\n\u001b[1;32m      1\u001b[0m \u001b[0marr\u001b[0m\u001b[0;34m=\u001b[0m\u001b[0;34m[\u001b[0m\u001b[0;36m10\u001b[0m\u001b[0;34m,\u001b[0m\u001b[0;36m3\u001b[0m\u001b[0;34m,\u001b[0m\u001b[0;36m6\u001b[0m\u001b[0;34m,\u001b[0m\u001b[0;36m5\u001b[0m\u001b[0;34m,\u001b[0m\u001b[0;36m14\u001b[0m\u001b[0;34m,\u001b[0m\u001b[0;36m8\u001b[0m\u001b[0;34m]\u001b[0m\u001b[0;34m\u001b[0m\u001b[0m\n\u001b[0;32m----> 2\u001b[0;31m \u001b[0mSolution\u001b[0m\u001b[0;34m(\u001b[0m\u001b[0;34m)\u001b[0m\u001b[0;34m.\u001b[0m\u001b[0mmerge_sort\u001b[0m\u001b[0;34m(\u001b[0m\u001b[0marr\u001b[0m\u001b[0;34m)\u001b[0m\u001b[0;34m\u001b[0m\u001b[0m\n\u001b[0m",
      "\u001b[0;31mTypeError\u001b[0m: merge_sort() missing 2 required positional arguments: 'front' and 'end'"
     ]
    }
   ],
   "source": [
    "arr=[10,3,6,5,14,8]\n",
    "Solution().merge_sort(arr)"
   ]
  },
  {
   "cell_type": "markdown",
   "metadata": {},
   "source": [
    "這裡又遇到另外的問題...因為最後的merge_sort只需要一個arr，沒有其他的變數，而我目前還有front、mid、end，要再想辦法TOT。。。。\n",
    "還有我真的是太愚蠢了，同學幫我指正，j++直到超出範圍，但不是等於None....\n",
    "這裡也不可以用extend，a的值已經是原array的值，再extend會增加value。"
   ]
  },
  {
   "cell_type": "code",
   "execution_count": 36,
   "metadata": {},
   "outputs": [],
   "source": [
    "class Solution():\n",
    "    def MergeSingle(self,arr,front,mid,end):\n",
    "\n",
    "            front=0\n",
    "            end = len(arr)-1\n",
    "            i = front          #left array的index\n",
    "            j = mid + 1      #right array的index\n",
    "            \n",
    "            m = front #array的index\n",
    "            while m <= end:     #這裡是把array的值複製到空array的裡面\n",
    "                a[m] = arr[m]     \n",
    "                m+=1\n",
    "            \n",
    "            while i<mid and j<end:\n",
    "                if arr[i]<arr[j]:\n",
    "                    a[m] = arr[i]\n",
    "                    i+=1\n",
    "                    m+=1\n",
    "                    \n",
    "                else:\n",
    "                    a[m] = arr[j]\n",
    "                    j+=1\n",
    "                    m+=1\n",
    "                \n",
    "           \n",
    "            if j==end:\n",
    "                a. extend(arr[i,mid])\n",
    "            else:\n",
    "                a. extend(arr[mid+1,end])\n",
    "            \n",
    "        \n",
    "    def merge_sort(self,arr,front,end):\n",
    "        if len(arr) ==1:\n",
    "            return arr\n",
    "        front = 0\n",
    "        end = len(arr)-1\n",
    "        \n",
    "        while len(arr) >1:\n",
    "            mid = front+end//2  #這裡的//是省略小數，方便取中點\n",
    "            Solution().merge_sort(arr,front,mid)    #遞迴左半邊的array\n",
    "            Solution().merge_sort(arr,mid+1,end)    #遞迴右半邊的array\n",
    "            Solution().MergeSingle(arr,front,mid,end)      #單趟merge\n",
    "            \n",
    "          "
   ]
  },
  {
   "cell_type": "code",
   "execution_count": 37,
   "metadata": {},
   "outputs": [
    {
     "ename": "TypeError",
     "evalue": "merge_sort() missing 2 required positional arguments: 'front' and 'end'",
     "output_type": "error",
     "traceback": [
      "\u001b[0;31m---------------------------------------------------------------------------\u001b[0m",
      "\u001b[0;31mTypeError\u001b[0m                                 Traceback (most recent call last)",
      "\u001b[0;32m<ipython-input-37-90ace2e58113>\u001b[0m in \u001b[0;36m<module>\u001b[0;34m()\u001b[0m\n\u001b[1;32m      1\u001b[0m \u001b[0marr\u001b[0m\u001b[0;34m=\u001b[0m\u001b[0;34m[\u001b[0m\u001b[0;36m10\u001b[0m\u001b[0;34m,\u001b[0m\u001b[0;36m3\u001b[0m\u001b[0;34m,\u001b[0m\u001b[0;36m6\u001b[0m\u001b[0;34m,\u001b[0m\u001b[0;36m5\u001b[0m\u001b[0;34m,\u001b[0m\u001b[0;36m14\u001b[0m\u001b[0;34m,\u001b[0m\u001b[0;36m8\u001b[0m\u001b[0;34m]\u001b[0m\u001b[0;34m\u001b[0m\u001b[0m\n\u001b[0;32m----> 2\u001b[0;31m \u001b[0mSolution\u001b[0m\u001b[0;34m(\u001b[0m\u001b[0;34m)\u001b[0m\u001b[0;34m.\u001b[0m\u001b[0mmerge_sort\u001b[0m\u001b[0;34m(\u001b[0m\u001b[0marr\u001b[0m\u001b[0;34m)\u001b[0m\u001b[0;34m\u001b[0m\u001b[0m\n\u001b[0m",
      "\u001b[0;31mTypeError\u001b[0m: merge_sort() missing 2 required positional arguments: 'front' and 'end'"
     ]
    }
   ],
   "source": [
    "arr=[10,3,6,5,14,8]\n",
    "Solution().merge_sort(arr)"
   ]
  },
  {
   "cell_type": "code",
   "execution_count": null,
   "metadata": {},
   "outputs": [],
   "source": [
    "我向其他同學求救。。。。。。。。。。。。\n",
    "這裡乾脆直接用mergesingle只對設定的array進行拆分，然後還是和最初一樣直接設定ij的初始值為0\n",
    "還有。。。我最後還是用了append  TAT.....\n",
    "同學告訴我還要return值 不然結果會沒有，我再補上了return"
   ]
  },
  {
   "cell_type": "code",
   "execution_count": 57,
   "metadata": {},
   "outputs": [],
   "source": [
    "class Solution():\n",
    "    def MergeSingle(self,left_arr,right_arr):\n",
    "            \n",
    "            i = 0          #left array的index\n",
    "            j = 0          #right array的index\n",
    "            a=[]           #設定的空list\n",
    "            mid=len(left_arr)       #left array的最大index\n",
    "            end=len(right_arr)     #right array的最大index\n",
    "            while i<mid and j<end:     #在i和j都在index範圍裡的時候比較\n",
    "                if left_arr[i]<=right_arr[j]:\n",
    "                    a.append(left_arr[i])      #如果左邊array的值比右邊array還要小，則把當前左邊array的append進a裡面\n",
    "                    i+=1                      #i的index向後移一個，繼續比較\n",
    "                else:\n",
    "                    a.append(right_arr[j])\n",
    "                    j+=1\n",
    "                \n",
    "           \n",
    "            if j==end:                    #如果j走到end的時候，代表j已經比完了，那個直接把剩下的left array的值放進去\n",
    "                a= a+left_arr[i:]\n",
    "            return a\n",
    "            \n",
    "            if i==end:\n",
    "                a= a+right_arr[j:]\n",
    "            return a\n",
    "            \n",
    "        \n",
    "        \n",
    "    def merge_sort(self,arr):\n",
    "        if len(arr)<=1:\n",
    "            return arr\n",
    "        left=arr[:mid]\n",
    "        right=arr[mid:]\n",
    "        mid = len(arr)//2  #這裡的//是省略小數，方便取中點\n",
    "        arr1=self.merge_sort(left)\n",
    "        arr2=self.merge_sort(right)\n",
    "        return self.MergeSingle(arr1,arr2)"
   ]
  },
  {
   "cell_type": "code",
   "execution_count": 58,
   "metadata": {},
   "outputs": [
    {
     "ename": "UnboundLocalError",
     "evalue": "local variable 'mid' referenced before assignment",
     "output_type": "error",
     "traceback": [
      "\u001b[0;31m---------------------------------------------------------------------------\u001b[0m",
      "\u001b[0;31mUnboundLocalError\u001b[0m                         Traceback (most recent call last)",
      "\u001b[0;32m<ipython-input-58-90ace2e58113>\u001b[0m in \u001b[0;36m<module>\u001b[0;34m()\u001b[0m\n\u001b[1;32m      1\u001b[0m \u001b[0marr\u001b[0m\u001b[0;34m=\u001b[0m\u001b[0;34m[\u001b[0m\u001b[0;36m10\u001b[0m\u001b[0;34m,\u001b[0m\u001b[0;36m3\u001b[0m\u001b[0;34m,\u001b[0m\u001b[0;36m6\u001b[0m\u001b[0;34m,\u001b[0m\u001b[0;36m5\u001b[0m\u001b[0;34m,\u001b[0m\u001b[0;36m14\u001b[0m\u001b[0;34m,\u001b[0m\u001b[0;36m8\u001b[0m\u001b[0;34m]\u001b[0m\u001b[0;34m\u001b[0m\u001b[0m\n\u001b[0;32m----> 2\u001b[0;31m \u001b[0mSolution\u001b[0m\u001b[0;34m(\u001b[0m\u001b[0;34m)\u001b[0m\u001b[0;34m.\u001b[0m\u001b[0mmerge_sort\u001b[0m\u001b[0;34m(\u001b[0m\u001b[0marr\u001b[0m\u001b[0;34m)\u001b[0m\u001b[0;34m\u001b[0m\u001b[0m\n\u001b[0m",
      "\u001b[0;32m<ipython-input-57-8e7db1c39ecb>\u001b[0m in \u001b[0;36mmerge_sort\u001b[0;34m(self, arr)\u001b[0m\n\u001b[1;32m     29\u001b[0m         \u001b[0;32mif\u001b[0m \u001b[0mlen\u001b[0m\u001b[0;34m(\u001b[0m\u001b[0marr\u001b[0m\u001b[0;34m)\u001b[0m\u001b[0;34m<=\u001b[0m\u001b[0;36m1\u001b[0m\u001b[0;34m:\u001b[0m\u001b[0;34m\u001b[0m\u001b[0m\n\u001b[1;32m     30\u001b[0m             \u001b[0;32mreturn\u001b[0m \u001b[0marr\u001b[0m\u001b[0;34m\u001b[0m\u001b[0m\n\u001b[0;32m---> 31\u001b[0;31m         \u001b[0mleft\u001b[0m\u001b[0;34m=\u001b[0m\u001b[0marr\u001b[0m\u001b[0;34m[\u001b[0m\u001b[0;34m:\u001b[0m\u001b[0mmid\u001b[0m\u001b[0;34m]\u001b[0m\u001b[0;34m\u001b[0m\u001b[0m\n\u001b[0m\u001b[1;32m     32\u001b[0m         \u001b[0mright\u001b[0m\u001b[0;34m=\u001b[0m\u001b[0marr\u001b[0m\u001b[0;34m[\u001b[0m\u001b[0mmid\u001b[0m\u001b[0;34m:\u001b[0m\u001b[0;34m]\u001b[0m\u001b[0;34m\u001b[0m\u001b[0m\n\u001b[1;32m     33\u001b[0m         \u001b[0mmid\u001b[0m \u001b[0;34m=\u001b[0m \u001b[0mlen\u001b[0m\u001b[0;34m(\u001b[0m\u001b[0marr\u001b[0m\u001b[0;34m)\u001b[0m\u001b[0;34m//\u001b[0m\u001b[0;36m2\u001b[0m  \u001b[0;31m#這裡的//是省略小數，方便取中點\u001b[0m\u001b[0;34m\u001b[0m\u001b[0m\n",
      "\u001b[0;31mUnboundLocalError\u001b[0m: local variable 'mid' referenced before assignment"
     ]
    }
   ],
   "source": [
    "arr=[10,3,6,5,14,8]\n",
    "Solution().merge_sort(arr)"
   ]
  },
  {
   "cell_type": "markdown",
   "metadata": {},
   "source": [
    "我的眼睛要脫窗了。。。。。。。。\n",
    "\n",
    "原來不可以直接把left right的範圍預先設定好"
   ]
  },
  {
   "cell_type": "code",
   "execution_count": 59,
   "metadata": {},
   "outputs": [],
   "source": [
    "class Solution():\n",
    "    def MergeSingle(self,left_arr,right_arr):\n",
    "            \n",
    "            i = 0          #left array的index\n",
    "            j = 0          #right array的index\n",
    "            a=[]           #設定的空list\n",
    "            mid=len(left_arr)       #left array的最大index\n",
    "            end=len(right_arr)     #right array的最大index\n",
    "            while i<mid and j<end:     #在i和j都在index範圍裡的時候比較\n",
    "                if left_arr[i]<=right_arr[j]:\n",
    "                    a.append(left_arr[i])      #如果左邊array的值比右邊array還要小，則把當前左邊array的append進a裡面\n",
    "                    i+=1                      #i的index向後移一個，繼續比較\n",
    "                else:\n",
    "                    a.append(right_arr[j])\n",
    "                    j+=1\n",
    "                \n",
    "           \n",
    "            if j==end:                     #如果j走到end的時候，代表j已經比完了，那個直接把剩下的left array的值放進去\n",
    "                a= a+ left_arr[i:]\n",
    "            else:                           #i也同理\n",
    "                a= a+ right_arr[j:]\n",
    "            return a\n",
    "            \n",
    "        \n",
    "        \n",
    "    def merge_sort(self,arr):\n",
    "        if len(arr)<=1:         #如果array長度不大於1，則直接回傳，默認已經排序\n",
    "            return arr\n",
    "        \n",
    "        \n",
    "        mid = len(arr)//2  #這裡的//是省略小數，方便取中點\n",
    "        arr1=Solution().merge_sort(arr[:mid])  #遞迴左半邊的array\n",
    "        arr2=Solution().merge_sort(arr[mid:]) #遞迴左半邊的array\n",
    "        return Solution().MergeSingle(arr1,arr2)#單趟merge"
   ]
  },
  {
   "cell_type": "code",
   "execution_count": 60,
   "metadata": {},
   "outputs": [
    {
     "data": {
      "text/plain": [
       "[3, 5, 6, 8, 10, 14]"
      ]
     },
     "execution_count": 60,
     "metadata": {},
     "output_type": "execute_result"
    }
   ],
   "source": [
    "arr=[10,3,6,5,14,8]\n",
    "Solution().merge_sort(arr)"
   ]
  },
  {
   "cell_type": "code",
   "execution_count": null,
   "metadata": {},
   "outputs": [],
   "source": []
  }
 ],
 "metadata": {
  "kernelspec": {
   "display_name": "Python 3",
   "language": "python",
   "name": "python3"
  },
  "language_info": {
   "codemirror_mode": {
    "name": "ipython",
    "version": 3
   },
   "file_extension": ".py",
   "mimetype": "text/x-python",
   "name": "python",
   "nbconvert_exporter": "python",
   "pygments_lexer": "ipython3",
   "version": "3.7.0"
  }
 },
 "nbformat": 4,
 "nbformat_minor": 2
}
