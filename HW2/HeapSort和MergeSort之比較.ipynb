{
 "cells": [
  {
   "cell_type": "markdown",
   "metadata": {},
   "source": [
    "1. 堆排序(HeapSort)：\n",
    "\n",
    "它是O（nlogn）排序算法中最慢的，但與合併和快速排序不同，它不需要大量的遞歸或多個數組即可工作。\n",
    "\n",
    "\n",
    "2. 合併排序(Mergesort)：\n",
    "\n",
    "對於較大的集合，合併排序比堆排序要快一些，但是由於第二個數組，合併排序需要的內存是堆排序的兩倍。\n",
    "\n",
    "\n",
    "3.   堆排序             歸並排序\n",
    "\n",
    "最壞時間 O(nlogn) O(nlogn) \n",
    "\n",
    "最好時間 O(nlogn) O(nlogn) \n",
    "\n",
    "平均時間 O(nlogn) O(nlogn) \n",
    "\n",
    "輔助空間 O(1)    O(n)\n"
   ]
  },
  {
   "cell_type": "markdown",
   "metadata": {},
   "source": [
    "參考資料：\n",
    "https://blog.csdn.net/taotao12312/article/details/69511722"
   ]
  }
 ],
 "metadata": {
  "kernelspec": {
   "display_name": "Python 3",
   "language": "python",
   "name": "python3"
  },
  "language_info": {
   "codemirror_mode": {
    "name": "ipython",
    "version": 3
   },
   "file_extension": ".py",
   "mimetype": "text/x-python",
   "name": "python",
   "nbconvert_exporter": "python",
   "pygments_lexer": "ipython3",
   "version": "3.7.0"
  }
 },
 "nbformat": 4,
 "nbformat_minor": 2
}
